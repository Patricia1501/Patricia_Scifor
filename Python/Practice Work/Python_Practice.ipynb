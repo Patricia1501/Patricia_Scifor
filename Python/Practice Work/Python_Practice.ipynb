{
  "nbformat": 4,
  "nbformat_minor": 0,
  "metadata": {
    "colab": {
      "provenance": []
    },
    "kernelspec": {
      "name": "python3",
      "display_name": "Python 3"
    },
    "language_info": {
      "name": "python"
    }
  },
  "cells": [
    {
      "cell_type": "markdown",
      "source": [
        "### <u>Practise Questions On Loops</u1>"
      ],
      "metadata": {
        "id": "0jc7_W2QKTAd"
      }
    },
    {
      "cell_type": "code",
      "execution_count": null,
      "metadata": {
        "colab": {
          "base_uri": "https://localhost:8080/"
        },
        "id": "4PDaZGe_KRJs",
        "outputId": "188ff485-ccd5-44d7-e0ec-df182a3c1d7e"
      },
      "outputs": [
        {
          "output_type": "stream",
          "name": "stdout",
          "text": [
            "1\n",
            "2\n",
            "3\n",
            "4\n",
            "5\n",
            "6\n",
            "7\n",
            "8\n",
            "9\n",
            "10\n"
          ]
        }
      ],
      "source": [
        "#1) Print numbers from 1 to 10 using for loop\n",
        "\n",
        "for i in range(1,11):\n",
        "  print(i)"
      ]
    },
    {
      "cell_type": "code",
      "source": [
        "#2)Calculate the sum of numbers from 1 to 10\n",
        "\n",
        "sum_num = 0\n",
        "for numbers in range(1,11):\n",
        "  sum_num+=numbers\n",
        "  print(sum_num)"
      ],
      "metadata": {
        "colab": {
          "base_uri": "https://localhost:8080/"
        },
        "id": "5lQK51OZKult",
        "outputId": "94a10df7-d3dd-4404-d4f9-4daf74741885"
      },
      "execution_count": null,
      "outputs": [
        {
          "output_type": "stream",
          "name": "stdout",
          "text": [
            "1\n",
            "3\n",
            "6\n",
            "10\n",
            "15\n",
            "21\n",
            "28\n",
            "36\n",
            "45\n",
            "55\n"
          ]
        }
      ]
    },
    {
      "cell_type": "code",
      "source": [
        "#3)Print elements of a list using for loop:\n",
        "\n",
        "list = [0,1,2,3,4,5]\n",
        "for values in list:\n",
        "  print(values)"
      ],
      "metadata": {
        "colab": {
          "base_uri": "https://localhost:8080/"
        },
        "id": "0ViBYqMHLQe2",
        "outputId": "556063b7-2801-4264-8606-460ba2b880e7"
      },
      "execution_count": null,
      "outputs": [
        {
          "output_type": "stream",
          "name": "stdout",
          "text": [
            "0\n",
            "1\n",
            "2\n",
            "3\n",
            "4\n",
            "5\n"
          ]
        }
      ]
    },
    {
      "cell_type": "code",
      "source": [
        "#4) Calculate the product of elements in a list using for loop\n",
        "\n",
        "list = [1,2,3,4]\n",
        "product = 2\n",
        "for i in list:\n",
        "  product*=i\n",
        "  print(product)"
      ],
      "metadata": {
        "colab": {
          "base_uri": "https://localhost:8080/"
        },
        "id": "fFtKiFftMDqb",
        "outputId": "1d387a2b-81fb-4680-ac56-051a85b90be8"
      },
      "execution_count": null,
      "outputs": [
        {
          "output_type": "stream",
          "name": "stdout",
          "text": [
            "2\n",
            "4\n",
            "12\n",
            "48\n"
          ]
        }
      ]
    },
    {
      "cell_type": "code",
      "source": [
        "#5)Print even numbers from 1 to 10 using for loop\n",
        "\n",
        "for num in range(2,11,2):\n",
        "  print(num)"
      ],
      "metadata": {
        "colab": {
          "base_uri": "https://localhost:8080/"
        },
        "id": "3AR68_XgMfuo",
        "outputId": "d7d6d0f6-758d-482a-f229-df300ee99c53"
      },
      "execution_count": null,
      "outputs": [
        {
          "output_type": "stream",
          "name": "stdout",
          "text": [
            "2\n",
            "4\n",
            "6\n",
            "8\n",
            "10\n"
          ]
        }
      ]
    },
    {
      "cell_type": "code",
      "source": [
        "#6)Print numbers in reverse form from 10 to 1 using for loop\n",
        "\n",
        "for num in range(10,0,-1):\n",
        "  print(num)"
      ],
      "metadata": {
        "colab": {
          "base_uri": "https://localhost:8080/"
        },
        "id": "WjvjNDHgNahV",
        "outputId": "7449e92b-8ef3-4ac5-877e-025c70351b22"
      },
      "execution_count": null,
      "outputs": [
        {
          "output_type": "stream",
          "name": "stdout",
          "text": [
            "10\n",
            "9\n",
            "8\n",
            "7\n",
            "6\n",
            "5\n",
            "4\n",
            "3\n",
            "2\n",
            "1\n"
          ]
        }
      ]
    },
    {
      "cell_type": "code",
      "source": [
        "#7)Print characters of a string using for loop\n",
        "\n",
        "str = \"Hi, How r u\"\n",
        "for char in str:\n",
        "  print(char)"
      ],
      "metadata": {
        "colab": {
          "base_uri": "https://localhost:8080/"
        },
        "id": "oLbd_V_fNqmc",
        "outputId": "1ff568c3-3872-4ac4-9af7-8c92dfb7b77a"
      },
      "execution_count": null,
      "outputs": [
        {
          "output_type": "stream",
          "name": "stdout",
          "text": [
            "H\n",
            "i\n",
            ",\n",
            " \n",
            "H\n",
            "o\n",
            "w\n",
            " \n",
            "r\n",
            " \n",
            "u\n"
          ]
        }
      ]
    },
    {
      "cell_type": "code",
      "source": [
        "#8)Find the largest number in a list using for loop.\n",
        "\n",
        "my_list = [2,5,4,9,11]\n",
        "largest = my_list[0]\n",
        "for num in my_list:\n",
        "  if num > largest:\n",
        "    largest = num\n",
        "print(largest)"
      ],
      "metadata": {
        "colab": {
          "base_uri": "https://localhost:8080/"
        },
        "id": "QRUPcGNVOEpf",
        "outputId": "6ac70084-6ae6-47cf-ea65-80c28d723115"
      },
      "execution_count": null,
      "outputs": [
        {
          "output_type": "stream",
          "name": "stdout",
          "text": [
            "11\n"
          ]
        }
      ]
    },
    {
      "cell_type": "code",
      "source": [
        "#9)Find the average of numbers in a list using a for loop\n",
        "\n",
        "list = [4,7,9,2,5]\n",
        "total = 0\n",
        "for num in list:\n",
        "  total += num\n",
        "average = total / len(list)\n",
        "print(average)"
      ],
      "metadata": {
        "colab": {
          "base_uri": "https://localhost:8080/"
        },
        "id": "DWv3cS11Opfr",
        "outputId": "3e52be67-bf7f-4d59-871f-4551a36339f2"
      },
      "execution_count": null,
      "outputs": [
        {
          "output_type": "stream",
          "name": "stdout",
          "text": [
            "5.4\n"
          ]
        }
      ]
    },
    {
      "cell_type": "code",
      "source": [
        "#10)Print all uppercase letters using for loop\n",
        "\n",
        "str = \"patrCIA\"\n",
        "for char in str:\n",
        "  if char.isupper():\n",
        "    print(char)"
      ],
      "metadata": {
        "colab": {
          "base_uri": "https://localhost:8080/"
        },
        "id": "CDXCEedeQWXG",
        "outputId": "6e162bc6-9797-4ce4-df80-225d3215658f"
      },
      "execution_count": null,
      "outputs": [
        {
          "output_type": "stream",
          "name": "stdout",
          "text": [
            "C\n",
            "I\n",
            "A\n"
          ]
        }
      ]
    },
    {
      "cell_type": "code",
      "source": [
        "#11)Count the number of vowels in a string using for loop\n",
        "\n",
        "str = \"Patricia\"\n",
        "vowels = \"AEIOUaeiou\"\n",
        "count = 0\n",
        "for char in str:\n",
        "  if char in vowels:\n",
        "    count += 1\n",
        "print(count)\n",
        "\n"
      ],
      "metadata": {
        "colab": {
          "base_uri": "https://localhost:8080/"
        },
        "id": "VNpE0SzoRjHy",
        "outputId": "444c5059-a62b-4a6c-fa9a-1e89ef9a87d7"
      },
      "execution_count": null,
      "outputs": [
        {
          "output_type": "stream",
          "name": "stdout",
          "text": [
            "4\n"
          ]
        }
      ]
    },
    {
      "cell_type": "code",
      "source": [
        "#12) Print pattern of star using nested for loop\n",
        "\n",
        "for i in range(5):\n",
        "  for j in range(i+1):\n",
        "    print(\"*\", end=\"\")\n",
        "  print()"
      ],
      "metadata": {
        "colab": {
          "base_uri": "https://localhost:8080/"
        },
        "id": "j5kyB0bOS8d2",
        "outputId": "330f8996-3806-4ccd-d992-232cfb508e9e"
      },
      "execution_count": null,
      "outputs": [
        {
          "output_type": "stream",
          "name": "stdout",
          "text": [
            "*\n",
            "**\n",
            "***\n",
            "****\n",
            "*****\n"
          ]
        }
      ]
    },
    {
      "cell_type": "code",
      "source": [
        "#13)Calculate factorial of a number using while loop\n",
        "\n",
        "num = 7\n",
        "factorial = 1\n",
        "while num > 0:\n",
        "  factorial *= num\n",
        "  num -=1\n",
        "print(factorial)"
      ],
      "metadata": {
        "colab": {
          "base_uri": "https://localhost:8080/"
        },
        "id": "TGNUtzWjTZJg",
        "outputId": "97aeedef-b98b-4fbf-af11-498597018711"
      },
      "execution_count": null,
      "outputs": [
        {
          "output_type": "stream",
          "name": "stdout",
          "text": [
            "5040\n"
          ]
        }
      ]
    },
    {
      "cell_type": "code",
      "source": [
        "#13a)Calculate factorial of a number by user input\n",
        "\n",
        "def factorial(n):\n",
        "    if n == 0 or n == 1:\n",
        "        return 1\n",
        "    else:\n",
        "        return n * factorial(n-1)\n",
        "\n",
        "num = int(input(\"Enter a number:\"))\n",
        "result= factorial(num)\n",
        "print(f\"The factorial of {num} is {result}\")"
      ],
      "metadata": {
        "colab": {
          "base_uri": "https://localhost:8080/"
        },
        "id": "0n_sGaVg0ZJE",
        "outputId": "dd1db484-57f4-4d3e-ff75-cbd50d4b790d"
      },
      "execution_count": null,
      "outputs": [
        {
          "output_type": "stream",
          "name": "stdout",
          "text": [
            "Enter a number:4\n",
            "The factorial of 4 is 24\n"
          ]
        }
      ]
    },
    {
      "cell_type": "code",
      "source": [
        "#14)Find the first occurrence of a number in a list using a while loop\n",
        "\n",
        "list = [3,8,2,7,4]\n",
        "target = 7\n",
        "index = 0\n",
        "while index < len(list):\n",
        "  if list[index] == target:\n",
        "          break\n",
        "  index += 1\n",
        "else:\n",
        "  index = -1\n",
        "\n",
        "print(index)\n",
        "\n",
        "\n"
      ],
      "metadata": {
        "colab": {
          "base_uri": "https://localhost:8080/"
        },
        "id": "f9Mi2HueUSqL",
        "outputId": "dc01fa4d-28d3-4ff6-a9f6-5dd1f3648801"
      },
      "execution_count": null,
      "outputs": [
        {
          "output_type": "stream",
          "name": "stdout",
          "text": [
            "3\n"
          ]
        }
      ]
    },
    {
      "cell_type": "code",
      "source": [
        "#15)Calculate the sum of numbers from 1 to 100 using while loop\n",
        "\n",
        "num = 1\n",
        "sum_num = 0\n",
        "while num <= 100:\n",
        "  sum_num += num\n",
        "  num += 1\n",
        "print(sum_num)"
      ],
      "metadata": {
        "colab": {
          "base_uri": "https://localhost:8080/"
        },
        "id": "lCe6qpfGVP4y",
        "outputId": "bbdcb8cf-9423-483c-8a22-fb7a43878e84"
      },
      "execution_count": null,
      "outputs": [
        {
          "output_type": "stream",
          "name": "stdout",
          "text": [
            "5050\n"
          ]
        }
      ]
    },
    {
      "cell_type": "code",
      "source": [
        "#16)Find all prime numbers between 1 to 50 using while loop\n",
        "\n",
        "num = 2\n",
        "while num <= 50:\n",
        "  is_prime = True\n",
        "  i = 2\n",
        "  while i < num:\n",
        "    if num % i == 0:\n",
        "      is_prime = False\n",
        "      break\n",
        "    i += 1\n",
        "  if is_prime:\n",
        "    print(num)\n",
        "  num += 1"
      ],
      "metadata": {
        "id": "7O_BTAs7WcOj",
        "colab": {
          "base_uri": "https://localhost:8080/"
        },
        "outputId": "f64e3203-19b0-4bf7-b3f1-116bebc09a60"
      },
      "execution_count": null,
      "outputs": [
        {
          "output_type": "stream",
          "name": "stdout",
          "text": [
            "2\n",
            "3\n",
            "5\n",
            "7\n",
            "11\n",
            "13\n",
            "17\n",
            "19\n",
            "23\n",
            "29\n",
            "31\n",
            "37\n",
            "41\n",
            "43\n",
            "47\n"
          ]
        }
      ]
    },
    {
      "cell_type": "code",
      "source": [
        "#16a)Find all prime numbers between 1 to 50 using nested for and if:\n",
        "\n",
        "for num in range(2, 51):\n",
        " # is_prime = True\n",
        "  for i in range(2, num):\n",
        "    if num % i == 0:\n",
        "  #    is_prime = False\n",
        "      break\n",
        "  #if is_prime:\n",
        "  else:\n",
        "    print(num)"
      ],
      "metadata": {
        "colab": {
          "base_uri": "https://localhost:8080/"
        },
        "id": "9FdzyO1TM7Sd",
        "outputId": "01d4226c-20d5-4443-a0bd-b7d08ea1a16b"
      },
      "execution_count": null,
      "outputs": [
        {
          "output_type": "stream",
          "name": "stdout",
          "text": [
            "2\n",
            "3\n",
            "5\n",
            "7\n",
            "11\n",
            "13\n",
            "17\n",
            "19\n",
            "23\n",
            "29\n",
            "31\n",
            "37\n",
            "41\n",
            "43\n",
            "47\n"
          ]
        }
      ]
    },
    {
      "cell_type": "code",
      "source": [
        "#17)Print numbers divisible by 3 or 5 from 1 to 20 using a for loop\n",
        "\n",
        "for num in range(1,21):\n",
        "  if num % 3 == 0 or num % 5 == 0:\n",
        "    print(num)"
      ],
      "metadata": {
        "colab": {
          "base_uri": "https://localhost:8080/"
        },
        "id": "NDzBsdwFNUXy",
        "outputId": "604565fe-9011-4dd7-c1ed-f656e13ac9b0"
      },
      "execution_count": null,
      "outputs": [
        {
          "output_type": "stream",
          "name": "stdout",
          "text": [
            "3\n",
            "5\n",
            "6\n",
            "9\n",
            "10\n",
            "12\n",
            "15\n",
            "18\n",
            "20\n"
          ]
        }
      ]
    },
    {
      "cell_type": "code",
      "source": [
        "#18)Print a list of squares of numbers from 1 to 5 usig a list comprehension\n",
        "\n",
        "squares = [num**2 for num in range(1, 6)]\n",
        "print(squares)"
      ],
      "metadata": {
        "colab": {
          "base_uri": "https://localhost:8080/"
        },
        "id": "M-uvKP0jNnXg",
        "outputId": "3c5b64d5-0bfd-4337-b439-05dc896acce4"
      },
      "execution_count": null,
      "outputs": [
        {
          "output_type": "stream",
          "name": "stdout",
          "text": [
            "[1, 4, 9, 16, 25]\n"
          ]
        }
      ]
    },
    {
      "cell_type": "code",
      "source": [
        "#19)Print the Fibnacci sequence up to the 10th term using a while loop\n",
        "\n",
        "a, b = 0, 1\n",
        "while b < 10:\n",
        "  print(b)\n",
        "  a, b = b, a+b"
      ],
      "metadata": {
        "colab": {
          "base_uri": "https://localhost:8080/"
        },
        "id": "GJZNPh_eN9lC",
        "outputId": "7ee433ff-8af8-4d45-8851-60e23528ab0b"
      },
      "execution_count": null,
      "outputs": [
        {
          "output_type": "stream",
          "name": "stdout",
          "text": [
            "1\n",
            "1\n",
            "2\n",
            "3\n",
            "5\n",
            "8\n"
          ]
        }
      ]
    },
    {
      "cell_type": "code",
      "source": [
        "#20)Find the common element in two lists using a for loop\n",
        "\n",
        "list1 = [1,2,3,4,5]\n",
        "list2 = [2,3,4,6,8,10]\n",
        "for num in list1:\n",
        "  if num in list2:\n",
        "    print(num)"
      ],
      "metadata": {
        "colab": {
          "base_uri": "https://localhost:8080/"
        },
        "id": "rE5E6DPuOR9B",
        "outputId": "5936b9e5-3ad6-4945-e6da-ee0bbd710ac7"
      },
      "execution_count": null,
      "outputs": [
        {
          "output_type": "stream",
          "name": "stdout",
          "text": [
            "2\n",
            "3\n",
            "4\n"
          ]
        }
      ]
    },
    {
      "cell_type": "markdown",
      "source": [
        "### <u>Examples on Polymorphism</u>"
      ],
      "metadata": {
        "id": "t4kmS-BFPC7u"
      }
    },
    {
      "cell_type": "code",
      "source": [
        "print(len(\"Programiz\"))\n",
        "print(len([\"Python\", \"Java\", \"C\"]))\n",
        "print(len({\"Name\": \"John\", \"Address\": \"Nepal\"}))"
      ],
      "metadata": {
        "colab": {
          "base_uri": "https://localhost:8080/"
        },
        "id": "OerVU4tdOtBB",
        "outputId": "de820606-c7d8-4836-d8b7-5400cb3fb6a6"
      },
      "execution_count": null,
      "outputs": [
        {
          "output_type": "stream",
          "name": "stdout",
          "text": [
            "9\n",
            "3\n",
            "2\n"
          ]
        }
      ]
    },
    {
      "cell_type": "code",
      "source": [
        "str1 = \"Python\"\n",
        "str2 = \"Programming\"\n",
        "print(str1+\" \"+str2)\n"
      ],
      "metadata": {
        "colab": {
          "base_uri": "https://localhost:8080/"
        },
        "id": "c_QtdBNJPPWb",
        "outputId": "60480123-dae3-4625-fadd-7e4f47b63b0c"
      },
      "execution_count": null,
      "outputs": [
        {
          "output_type": "stream",
          "name": "stdout",
          "text": [
            "Python Programming\n"
          ]
        }
      ]
    },
    {
      "cell_type": "code",
      "source": [
        "a = 10\n",
        "b = 20\n",
        "print('Addition of 2 numbers:', a + b)\n",
        "\n",
        "str1 = 'Hello '\n",
        "str2 = 'Python'\n",
        "print('Concatenation of 2 strings:', str1 + str2)\n",
        "\n",
        "list1 = [1, 2, 3]\n",
        "list2 = ['A', 'B']\n",
        "print('Concatenation of 2 lists:', list1 + list2)\n"
      ],
      "metadata": {
        "colab": {
          "base_uri": "https://localhost:8080/"
        },
        "id": "gQCatcV9R9z8",
        "outputId": "e73677b7-5f42-4c89-89f1-35335008e794"
      },
      "execution_count": null,
      "outputs": [
        {
          "output_type": "stream",
          "name": "stdout",
          "text": [
            "Addition of 2 numbers: 30\n",
            "Concatenation of 2 strings: Hello Python\n",
            "Concatenation of 2 lists: [1, 2, 3, 'A', 'B']\n"
          ]
        }
      ]
    },
    {
      "cell_type": "code",
      "source": [
        "a = 10\n",
        "b = 5\n",
        "print('Multiplication of 2 numbers:', a * b)\n",
        "\n",
        "num = 3\n",
        "mystr = 'Python'\n",
        "print('Multiplication of string:', num * mystr)"
      ],
      "metadata": {
        "colab": {
          "base_uri": "https://localhost:8080/"
        },
        "id": "s9zd0_DhSEBk",
        "outputId": "6f7bb547-af76-43a2-c8e3-05ab8e2b538b"
      },
      "execution_count": null,
      "outputs": [
        {
          "output_type": "stream",
          "name": "stdout",
          "text": [
            "Multiplication of 2 numbers: 50\n",
            "Multiplication of string: PythonPythonPython\n"
          ]
        }
      ]
    },
    {
      "cell_type": "code",
      "source": [
        "class Human1:\n",
        "    def __init__(self, name, age):\n",
        "        self.name = name\n",
        "        self.age = age\n",
        "\n",
        "    def info(self):\n",
        "        print(f\"My name is {self.name}. I am {self.age} years old.\")\n",
        "\n",
        "    def make_greeting(self):\n",
        "        print(\"Hi\")\n",
        "\n",
        "\n",
        "class Human2:\n",
        "    def __init__(self, name, age):\n",
        "        self.name = name\n",
        "        self.age = age\n",
        "\n",
        "    def info(self):\n",
        "        print(f\"My name is {self.name}. I am {self.age} years old.\")\n",
        "\n",
        "    def make_greeting(self):\n",
        "        print(\"Hello\")\n",
        "\n",
        "\n",
        "str1 = Human1(\"John\", 25)\n",
        "str2 = Human2(\"Jasmine\",20)\n",
        "\n",
        "for human_being in (str1, str2):\n",
        "    human_being.make_greeting()\n",
        "    human_being.info()\n",
        "    human_being.make_greeting()\n"
      ],
      "metadata": {
        "colab": {
          "base_uri": "https://localhost:8080/"
        },
        "id": "rAvvW0VBPT0e",
        "outputId": "4128bac4-4de9-46ad-aa9e-778c4465b6aa"
      },
      "execution_count": null,
      "outputs": [
        {
          "output_type": "stream",
          "name": "stdout",
          "text": [
            "Hi\n",
            "My name is John. I am 25 years old.\n",
            "Hi\n",
            "Hello\n",
            "My name is Jasmine. I am 20 years old.\n",
            "Hello\n"
          ]
        }
      ]
    },
    {
      "cell_type": "code",
      "source": [
        "class India():\n",
        "    def capital(self):\n",
        "        print(\"New Delhi is the capital of India.\")\n",
        "\n",
        "    def language(self):\n",
        "        print(\"Hindi is the most widely spoken language of India.\")\n",
        "\n",
        "    def type(self):\n",
        "        print(\"India is a developing country.\")\n",
        "\n",
        "class USA():\n",
        "    def capital(self):\n",
        "        print(\"Washington, D.C. is the capital of USA.\")\n",
        "\n",
        "    def language(self):\n",
        "        print(\"English is the primary language of USA.\")\n",
        "\n",
        "    def type(self):\n",
        "        print(\"USA is a developed country.\")\n",
        "\n",
        "def func(obj):\n",
        "\tobj.capital()\n",
        "\tobj.language()\n",
        "\tobj.type()\n",
        "\n",
        "obj_ind = India()\n",
        "obj_usa = USA()\n",
        "\n",
        "func(obj_ind)\n",
        "func(obj_usa)\n"
      ],
      "metadata": {
        "colab": {
          "base_uri": "https://localhost:8080/"
        },
        "id": "l8_Roy2hQoCb",
        "outputId": "10f5e4b7-dbe5-40be-9718-112c539801fe"
      },
      "execution_count": null,
      "outputs": [
        {
          "output_type": "stream",
          "name": "stdout",
          "text": [
            "New Delhi is the capital of India.\n",
            "Hindi is the most widely spoken language of India.\n",
            "India is a developing country.\n",
            "Washington, D.C. is the capital of USA.\n",
            "English is the primary language of USA.\n",
            "USA is a developed country.\n"
          ]
        }
      ]
    },
    {
      "cell_type": "markdown",
      "source": [
        "### <u>Examples on Encapsulation</u>\n",
        "\n",
        "<b>WHY DO WE NEED ENCAPSULATION IN PYTHON?<br></b>\n",
        "Encapsulation in Python is essential for several reasons like it protects the internal data of a class from unauthorized access and modification."
      ],
      "metadata": {
        "id": "JynDA6tVSsEq"
      }
    },
    {
      "cell_type": "code",
      "source": [
        "class BankAccount:\n",
        "\n",
        "    def __init__(self, account_number):\n",
        "        self._account_number = account_number  # Protected attribute\n",
        "\n",
        "    def __validate_pin(self, pin):\n",
        "        return len(str(pin)) == 4\n",
        "\n",
        "#In this encapsulation example in Python, the _account_number attribute is protected and prevents direct modification from outside the class."
      ],
      "metadata": {
        "id": "m7MdbE-iUEby"
      },
      "execution_count": null,
      "outputs": []
    },
    {
      "cell_type": "code",
      "source": [
        "class BankAccount:\n",
        "\n",
        "    def __init__(self, account_number):\n",
        "        self.__account_number = account_number  # Private attribute\n",
        "\n",
        "    def __validate_pin(self, pin):\n",
        "        return len(str(pin)) == 4\n",
        "\n",
        "\n",
        "# Creating an instance of the class\n",
        "account = BankAccount(\"12345\")\n",
        "\n",
        "# Accessing protected attribute\n",
        "print(account._BankAccount__account_number)\n",
        "\n",
        "\n",
        "# Accessing private method\n",
        "print(account._BankAccount__validate_pin(1234))"
      ],
      "metadata": {
        "colab": {
          "base_uri": "https://localhost:8080/"
        },
        "id": "Z4Cfw4U3UZ7X",
        "outputId": "4b23584a-41c3-4efc-f4c9-29951e1b7224"
      },
      "execution_count": null,
      "outputs": [
        {
          "output_type": "stream",
          "name": "stdout",
          "text": [
            "12345\n",
            "True\n"
          ]
        }
      ]
    },
    {
      "cell_type": "code",
      "source": [
        "class Student:\n",
        "\n",
        "    def __init__(self, name, age, grade):\n",
        "        self._name = name  # Protected attribute\n",
        "        self._age = age    # Protected attribute\n",
        "        self._grade = grade  # Protected attribute\n",
        "\n",
        "    # Getter method\n",
        "    def get_name(self):\n",
        "        return self._name\n",
        "\n",
        "    def get_age(self):\n",
        "        return self._age\n",
        "\n",
        "    # Setter method\n",
        "    def set_grade(self, grade):\n",
        "        if 0 <= grade <= 100:\n",
        "            self._grade = grade\n",
        "\n",
        "# Create a Student object\n",
        "student1 = Student(\"Alice\", 18, 90)\n",
        "\n",
        "# Accessing attributes through methods\n",
        "print(student1.get_name())\n",
        "print(student1.get_age())\n",
        "\n",
        "# Modifying attributes through methods\n",
        "student1.set_grade(95)"
      ],
      "metadata": {
        "colab": {
          "base_uri": "https://localhost:8080/"
        },
        "id": "BnzGlT-dRJYi",
        "outputId": "ed30e426-4020-49e8-ee95-cb7d682b10e1"
      },
      "execution_count": null,
      "outputs": [
        {
          "output_type": "stream",
          "name": "stdout",
          "text": [
            "Alice\n",
            "18\n"
          ]
        }
      ]
    },
    {
      "cell_type": "code",
      "source": [
        "class Employee:\n",
        "    # constructor\n",
        "    def __init__(self, name, salary, project):\n",
        "        # data members\n",
        "        self.name = name\n",
        "        self.salary = salary\n",
        "        self.project = project\n",
        "\n",
        "    # method\n",
        "    # to display employee's details\n",
        "    def show(self):\n",
        "        # accessing public data member\n",
        "        print(\"Name: \", self.name, 'Salary:', self.salary)\n",
        "\n",
        "    # method\n",
        "    def work(self):\n",
        "        print(self.name, 'is working on', self.project)\n",
        "\n",
        "# creating object of a class\n",
        "emp = Employee('Jessa', 8000, 'NLP')\n",
        "\n",
        "# calling public method of the class\n",
        "emp.show()\n",
        "emp.work()"
      ],
      "metadata": {
        "colab": {
          "base_uri": "https://localhost:8080/"
        },
        "id": "KKcHXmH6TFEd",
        "outputId": "a97fb6d6-91d9-4cde-9fd9-1f442260f57d"
      },
      "execution_count": null,
      "outputs": [
        {
          "output_type": "stream",
          "name": "stdout",
          "text": [
            "Name:  Jessa Salary: 8000\n",
            "Jessa is working on NLP\n"
          ]
        }
      ]
    },
    {
      "cell_type": "markdown",
      "source": [
        "### <u>Conditional Statements</u>"
      ],
      "metadata": {
        "id": "ZaNv0b07ctHx"
      }
    },
    {
      "cell_type": "markdown",
      "source": [
        "If - else statement"
      ],
      "metadata": {
        "id": "_07yOfcBdmGB"
      }
    },
    {
      "cell_type": "code",
      "source": [
        "age = int(input(\"Enter your age:\"))\n",
        "if age >= 18:\n",
        "    print(\"You are eligible to vote.\")\n",
        "else:\n",
        "    print(\"You are not eligible to vote.\")"
      ],
      "metadata": {
        "colab": {
          "base_uri": "https://localhost:8080/"
        },
        "id": "lYLZIiR4T-YR",
        "outputId": "f67a7b82-2d89-4cf7-d6ee-9c017788ef30"
      },
      "execution_count": null,
      "outputs": [
        {
          "output_type": "stream",
          "name": "stdout",
          "text": [
            "Enter your age:15\n",
            "You are not eligible to vote.\n"
          ]
        }
      ]
    },
    {
      "cell_type": "code",
      "source": [
        "grade = 80\n",
        "if grade >= 90:\n",
        "    print(\"A\")\n",
        "elif grade >= 80:\n",
        "    print(\"B\")\n",
        "elif grade >= 70:\n",
        "    print(\"C\")\n",
        "else:\n",
        "    print(\"F\")"
      ],
      "metadata": {
        "colab": {
          "base_uri": "https://localhost:8080/"
        },
        "id": "xZXKJ-rNc3r2",
        "outputId": "be006834-060d-448d-9f93-837648251db2"
      },
      "execution_count": null,
      "outputs": [
        {
          "output_type": "stream",
          "name": "stdout",
          "text": [
            "B\n"
          ]
        }
      ]
    },
    {
      "cell_type": "code",
      "source": [
        "num = int(input(\"enter the number:\"))\n",
        "if num % 2 == 0:\n",
        "    print(\"The number is even\")\n",
        "else:\n",
        "    print(\"The number is odd\")"
      ],
      "metadata": {
        "colab": {
          "base_uri": "https://localhost:8080/"
        },
        "id": "JWLs3Fumeb_9",
        "outputId": "9888c5e4-44d3-4567-9579-bbaf4b91e03d"
      },
      "execution_count": null,
      "outputs": [
        {
          "output_type": "stream",
          "name": "stdout",
          "text": [
            "enter the number:10\n",
            "The number is even\n"
          ]
        }
      ]
    },
    {
      "cell_type": "markdown",
      "source": [
        "Nested - If statements"
      ],
      "metadata": {
        "id": "M7ACnvHYd8kD"
      }
    },
    {
      "cell_type": "code",
      "source": [
        "number = -5\n",
        "\n",
        "# outer if statement\n",
        "if number >= 0:\n",
        "    # inner if statement\n",
        "    if number == 0:\n",
        "      print('Number is 0')\n",
        "\n",
        "    # inner else statement\n",
        "    else:\n",
        "        print('Number is positive')\n",
        "\n",
        "# outer else statement\n",
        "else:\n",
        "    print('Number is negative')"
      ],
      "metadata": {
        "colab": {
          "base_uri": "https://localhost:8080/"
        },
        "id": "mCqxwl2Yc_k-",
        "outputId": "9c96f1dc-3f0f-47de-bb34-4070e30ebb7b"
      },
      "execution_count": null,
      "outputs": [
        {
          "output_type": "stream",
          "name": "stdout",
          "text": [
            "Number is negative\n"
          ]
        }
      ]
    },
    {
      "cell_type": "code",
      "source": [
        "num = 21\n",
        "\n",
        "# if statement with true condition\n",
        "if num < 10:\n",
        "    print(f\"{num} is less than 10\")\n",
        "\n",
        "# if statement with false condition\n",
        "if num > 20:\n",
        "    print(f\"{num} is greater than 20\")"
      ],
      "metadata": {
        "colab": {
          "base_uri": "https://localhost:8080/"
        },
        "id": "ufh97iJ2dbk-",
        "outputId": "4e974a47-a957-40e2-aa10-1e1f72649210"
      },
      "execution_count": null,
      "outputs": [
        {
          "output_type": "stream",
          "name": "stdout",
          "text": [
            "21 is greater than 20\n"
          ]
        }
      ]
    },
    {
      "cell_type": "code",
      "source": [],
      "metadata": {
        "id": "Ah-1BkTtimEN"
      },
      "execution_count": null,
      "outputs": []
    }
  ]
}