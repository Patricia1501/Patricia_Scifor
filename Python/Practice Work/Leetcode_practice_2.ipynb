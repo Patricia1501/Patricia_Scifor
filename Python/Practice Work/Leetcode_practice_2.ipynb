{
  "nbformat": 4,
  "nbformat_minor": 0,
  "metadata": {
    "colab": {
      "provenance": []
    },
    "kernelspec": {
      "name": "python3",
      "display_name": "Python 3"
    },
    "language_info": {
      "name": "python"
    }
  },
  "cells": [
    {
      "cell_type": "markdown",
      "source": [
        "#### <b>58. Length of Last word.</b>\n",
        "\n",
        "Given a string s consisting of words and spaces, return the length of the last word in the string.<br>\n",
        "\n",
        "A word is a maximal\n",
        "substring\n",
        " consisting of non-space characters only.<br>\n",
        "\n",
        "\n",
        "\n",
        "<b>Example 1:</b>\n",
        "\n",
        "Input: s = \"Hello World\"<br>\n",
        "Output: 5<br>\n",
        "Explanation: The last word is \"World\" with length 5.<br>\n",
        "\n",
        "<b>Example 2:</b>\n",
        "\n",
        "Input: s = \"   fly me   to   the moon  \"<br>\n",
        "Output: 4<br>\n",
        "Explanation: The last word is \"moon\" with length 4.<br>\n",
        "\n",
        "<b>Example 3:</b>\n",
        "\n",
        "Input: s = \"luffy is still joyboy\"<br>\n",
        "Output: 6<br>\n",
        "Explanation: The last word is \"joyboy\" with length 6.<br>\n",
        "\n",
        "\n",
        "<b>Constraints:</b><br>\n",
        "\n",
        "1 <= s.length <= 104<br>\n",
        "s consists of only English letters and spaces ' '.<br>\n",
        "There will be at least one word in s.<br>"
      ],
      "metadata": {
        "id": "LUUbUiJV3-qt"
      }
    },
    {
      "cell_type": "code",
      "execution_count": 1,
      "metadata": {
        "colab": {
          "base_uri": "https://localhost:8080/"
        },
        "id": "lkXIN4FZ3rA2",
        "outputId": "b9541d05-f711-4fb6-8928-a0a955ba2718"
      },
      "outputs": [
        {
          "output_type": "stream",
          "name": "stdout",
          "text": [
            "5\n"
          ]
        }
      ],
      "source": [
        "class Solution:\n",
        "    def lengthOfLastWord(self, s: str) -> int:\n",
        "        s = s.rstrip()\n",
        "        # Split the string into words by spaces\n",
        "        words = s.split(' ')\n",
        "        # Return the length of the last word\n",
        "        return len(words[-1])\n",
        "\n",
        "s = \"Hello World\"\n",
        "solution = Solution()\n",
        "print(solution.lengthOfLastWord(s))"
      ]
    },
    {
      "cell_type": "markdown",
      "source": [
        "####  <b>709. To Lower Case</b>\n",
        "\n",
        "Given a string s, return the string after replacing every uppercase letter with the same lowercase letter.\n",
        "\n",
        "\n",
        "\n",
        "<b>Example 1:</b><br>\n",
        "\n",
        "Input: s = \"Hello\"<br>\n",
        "Output: \"hello\"<br>\n",
        "\n",
        "<b>Example 2:</b><br>\n",
        "\n",
        "Input: s = \"here\"<br>\n",
        "Output: \"here\"<br>\n",
        "\n",
        "<b>Example 3:</b>\n",
        "\n",
        "Input: s = \"LOVELY\"<br>\n",
        "Output: \"lovely\"<br>\n",
        "\n",
        "\n",
        "<b>Constraints:</b><br>\n",
        "\n",
        "1 <= s.length <= 100<br>\n",
        "s consists of printable ASCII characters.\n"
      ],
      "metadata": {
        "id": "O6fSciy45Cg5"
      }
    },
    {
      "cell_type": "code",
      "source": [
        "class Solution:\n",
        "    def toLowerCase(self, s: str) -> str:\n",
        "      return s.lower()\n",
        "\n",
        "s = \"Hello\"\n",
        "solution = Solution()\n",
        "print(solution.toLowerCase(s))"
      ],
      "metadata": {
        "colab": {
          "base_uri": "https://localhost:8080/"
        },
        "id": "UxKviNbD43EW",
        "outputId": "3aad4c5e-5940-49d0-afb0-b046a75df3d2"
      },
      "execution_count": 2,
      "outputs": [
        {
          "output_type": "stream",
          "name": "stdout",
          "text": [
            "hello\n"
          ]
        }
      ]
    },
    {
      "cell_type": "code",
      "source": [],
      "metadata": {
        "id": "ld7jPvua6PyO"
      },
      "execution_count": null,
      "outputs": []
    }
  ]
}