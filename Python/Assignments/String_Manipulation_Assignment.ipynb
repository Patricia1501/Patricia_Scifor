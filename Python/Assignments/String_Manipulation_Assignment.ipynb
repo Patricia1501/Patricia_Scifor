{
  "nbformat": 4,
  "nbformat_minor": 0,
  "metadata": {
    "colab": {
      "provenance": []
    },
    "kernelspec": {
      "name": "python3",
      "display_name": "Python 3"
    },
    "language_info": {
      "name": "python"
    }
  },
  "cells": [
    {
      "cell_type": "markdown",
      "source": [
        "## <b><u>ASSIGNMENT - STRING MANIPULATION</u></b>"
      ],
      "metadata": {
        "id": "JVUwrCia44Zq"
      }
    },
    {
      "cell_type": "markdown",
      "source": [
        "String manipulation in python is the act of modifying a string or creating a new string by making changes to existing strings. To manipulate strings, we can use some of Pythons built-in methods.<br>\n",
        "\n",
        "\n",
        "Here are some common string manipulation techniques explained simply with examples.\n",
        "\n",
        "### <b>Create a String in Python</b>\n",
        "To create a string with given characters, you can assign the characters to a variable after enclosing them in double quotes or single quotes as shown below.\n",
        "\n"
      ],
      "metadata": {
        "id": "QKb5LnX64oj-"
      }
    },
    {
      "cell_type": "code",
      "source": [
        "word = \"Hello World\"\n",
        "print(word)"
      ],
      "metadata": {
        "colab": {
          "base_uri": "https://localhost:8080/"
        },
        "id": "usO1s-n76K73",
        "outputId": "7119845c-56d0-4c20-8dc7-21dce2a5e575"
      },
      "execution_count": null,
      "outputs": [
        {
          "output_type": "stream",
          "name": "stdout",
          "text": [
            "Hello World\n"
          ]
        }
      ]
    },
    {
      "cell_type": "markdown",
      "source": [
        "## <b><u>Common String Manipulation Techniques</u></b>\n",
        "\n",
        "#### <b>1)Access Characters in a String in Python</b><br>\n",
        "To access characters of a string, we can use the python indexing operator [ ] i.e. square brackets to access characters in a string as shown below.\n",
        "\n",
        "In the example, we created a string “Hello World” and assigned it to the variable word. Then, we used the string indexing operator to access the first character of the string and assigned it to the variable letter.\n",
        "\n"
      ],
      "metadata": {
        "id": "3hoC2_M_59ZF"
      }
    },
    {
      "cell_type": "code",
      "execution_count": null,
      "metadata": {
        "colab": {
          "base_uri": "https://localhost:8080/"
        },
        "id": "2srYNkcd3P9C",
        "outputId": "fe115b0c-2d09-401a-c762-181aa51e30f3"
      },
      "outputs": [
        {
          "output_type": "stream",
          "name": "stdout",
          "text": [
            "The word is: Hello World\n",
            "The letter is: H\n"
          ]
        }
      ],
      "source": [
        "word = \"Hello World\"\n",
        "print(\"The word is:\",word)\n",
        "letter=word[0]\n",
        "print(\"The letter is:\",letter)"
      ]
    },
    {
      "cell_type": "markdown",
      "source": [
        "#### <b>2)Find Length of a String in Python</b><br>\n",
        "To find the length of a string in Python, we can use the len() function. The len() function takes a string as input argument and returns the length of the string as shown below."
      ],
      "metadata": {
        "id": "9tp13MfM4nnE"
      }
    },
    {
      "cell_type": "code",
      "source": [
        "word = \"Hello World\"\n",
        "print(\"The string is:\",word)\n",
        "length=len(word)\n",
        "print(\"The length of the string is:\",length)"
      ],
      "metadata": {
        "colab": {
          "base_uri": "https://localhost:8080/"
        },
        "id": "oV8TkVB37Zxt",
        "outputId": "2de93004-a9d6-438b-ca07-b6199d500ba0"
      },
      "execution_count": null,
      "outputs": [
        {
          "output_type": "stream",
          "name": "stdout",
          "text": [
            "The string is: Hello World\n",
            "The length of the string is: 11\n"
          ]
        }
      ]
    },
    {
      "cell_type": "markdown",
      "source": [
        "#### <b>3)Find a Character in a String in Python</b><br>\n",
        "To find the index of a character in a string, we can use the find() method. The find() method, when invoked on a string, takes the character as its input argument and returns the index of first occurrence of the character as shown below.\n",
        "\n",
        "In this example, we searched for the character \"W\" in the string using the find() method. As \"W\" is present at index 6 of the string, the find() method gives the value 6 as its output."
      ],
      "metadata": {
        "id": "1Hdah-Vp7fzt"
      }
    },
    {
      "cell_type": "code",
      "source": [
        "word = \"Hello World\"\n",
        "print(\"The string is:\",word)\n",
        "character=\"W\"\n",
        "print(\"The character is:\",character)\n",
        "position=word.find(character)\n",
        "print(\"The position of the character in the string is:\",position)"
      ],
      "metadata": {
        "colab": {
          "base_uri": "https://localhost:8080/"
        },
        "id": "wpahntaO7au2",
        "outputId": "f12a6b07-60c2-4f8d-c691-271aec76cdbd"
      },
      "execution_count": null,
      "outputs": [
        {
          "output_type": "stream",
          "name": "stdout",
          "text": [
            "The string is: Hello World\n",
            "The character is: W\n",
            "The position of the character in the string is: 6\n"
          ]
        }
      ]
    },
    {
      "cell_type": "markdown",
      "source": [
        "If the character is not present in the string, the find() method gives -1 as its output. You can observe this in the following example.\n",
        "\n",
        "In this example, we passed the character \"Z\" to the find() method as its input. You can observe that the find() method returns -1 as there is no \"Z\" in the string \"Hello World\"."
      ],
      "metadata": {
        "id": "A4Wp6mOp8DwC"
      }
    },
    {
      "cell_type": "code",
      "source": [
        "word = \"Hello World\"\n",
        "print(\"The string is:\",word)\n",
        "character=\"Z\"\n",
        "print(\"The character is:\",character)\n",
        "position=word.find(character)\n",
        "print(\"The position of the character in the string is:\",position)"
      ],
      "metadata": {
        "colab": {
          "base_uri": "https://localhost:8080/"
        },
        "id": "C1FLIw4U7k6z",
        "outputId": "489a1c28-5b43-4024-831f-0f02d63ed9a2"
      },
      "execution_count": null,
      "outputs": [
        {
          "output_type": "stream",
          "name": "stdout",
          "text": [
            "The string is: Hello World\n",
            "The character is: Z\n",
            "The position of the character in the string is: -1\n"
          ]
        }
      ]
    },
    {
      "cell_type": "markdown",
      "source": [
        "We can also find the index of a character or a substring in a string using the index() method. The index() method, when invoked on a string, takes a character or substring as its input argument. After execution, it returns the index of first occurrence of character or substring as shown below."
      ],
      "metadata": {
        "id": "kN-a2BPh8Wyg"
      }
    },
    {
      "cell_type": "code",
      "source": [
        "word = \"Hello World\"\n",
        "print(\"The string is:\",word)\n",
        "character=\"W\"\n",
        "print(\"The character is:\",character)\n",
        "position=word.index(character)\n",
        "print(\"The index of the character in the string is:\",position)"
      ],
      "metadata": {
        "colab": {
          "base_uri": "https://localhost:8080/"
        },
        "id": "G0ovAVgp8KWl",
        "outputId": "0e23f18b-4fd1-4e9f-d076-3d4481c6c2b9"
      },
      "execution_count": null,
      "outputs": [
        {
          "output_type": "stream",
          "name": "stdout",
          "text": [
            "The string is: Hello World\n",
            "The character is: W\n",
            "The index of the character in the string is: 6\n"
          ]
        }
      ]
    },
    {
      "cell_type": "markdown",
      "source": [
        "#### <b>4)String Slicing</b><br>\n",
        "To perform string manipulation in Python, you can use the syntax string_name[ start_index : end_index ] to get a substring of a string. Here, the slicing operation gives us a substring containing characters from start_index to end_index-1 of the string string_name."
      ],
      "metadata": {
        "id": "RbyqcJKk6Bae"
      }
    },
    {
      "cell_type": "code",
      "source": [
        "word = \"Hello World\"\n",
        "print (word[0])"
      ],
      "metadata": {
        "id": "RjFjlAOo8mm0",
        "colab": {
          "base_uri": "https://localhost:8080/"
        },
        "outputId": "0607699e-54bc-46bf-b951-7512d3436ea5"
      },
      "execution_count": 13,
      "outputs": [
        {
          "output_type": "stream",
          "name": "stdout",
          "text": [
            "H\n"
          ]
        }
      ]
    },
    {
      "cell_type": "code",
      "source": [
        "print (word[0:1])"
      ],
      "metadata": {
        "colab": {
          "base_uri": "https://localhost:8080/"
        },
        "id": "F3CKF5Lz6PsC",
        "outputId": "a523f429-b914-423f-f3cb-e227c0ab470a"
      },
      "execution_count": 8,
      "outputs": [
        {
          "output_type": "stream",
          "name": "stdout",
          "text": [
            "H\n"
          ]
        }
      ]
    },
    {
      "cell_type": "code",
      "source": [
        "print (word[0:3])"
      ],
      "metadata": {
        "colab": {
          "base_uri": "https://localhost:8080/"
        },
        "id": "_iRLOLxm6-km",
        "outputId": "a04954e5-e49a-475b-a4ba-0e26dd7d32cb"
      },
      "execution_count": 9,
      "outputs": [
        {
          "output_type": "stream",
          "name": "stdout",
          "text": [
            "Hel\n"
          ]
        }
      ]
    },
    {
      "cell_type": "code",
      "source": [
        "print (word[-3:])"
      ],
      "metadata": {
        "colab": {
          "base_uri": "https://localhost:8080/"
        },
        "id": "OCT6C31o6-SG",
        "outputId": "16142062-c034-4d3e-82ff-9af176885c47"
      },
      "execution_count": 11,
      "outputs": [
        {
          "output_type": "stream",
          "name": "stdout",
          "text": [
            "rld\n"
          ]
        }
      ]
    },
    {
      "cell_type": "code",
      "source": [
        "print (word[3:])"
      ],
      "metadata": {
        "colab": {
          "base_uri": "https://localhost:8080/"
        },
        "id": "1QLA60B469_F",
        "outputId": "43836f9b-5fff-49ad-cddd-7d9bea7f7df4"
      },
      "execution_count": 12,
      "outputs": [
        {
          "output_type": "stream",
          "name": "stdout",
          "text": [
            "lo World\n"
          ]
        }
      ]
    },
    {
      "cell_type": "code",
      "source": [
        "print (word[:-3])"
      ],
      "metadata": {
        "colab": {
          "base_uri": "https://localhost:8080/"
        },
        "id": "8AnlXXkF7IS9",
        "outputId": "ce1785cf-4eec-4e44-821e-2caedfab83df"
      },
      "execution_count": 6,
      "outputs": [
        {
          "output_type": "stream",
          "name": "stdout",
          "text": [
            "Hello Wo\n"
          ]
        }
      ]
    },
    {
      "cell_type": "markdown",
      "source": [
        "#### <b>5)Changing Upper and Lower Case Strings</b><br>\n",
        "You can convert string into uppercase, lowercase, and title case using the upper(), lower(), and title() method.<br>\n",
        "\n",
        "1)The upper() method, when invoked on a string, changes the string into uppercase and returns the modified string.<br>\n",
        "2)The lower() method, when invoked on a string, changes the string into lowercase and returns the modified string.<br>\n",
        "3)The title() method, when invoked on a string, changes the string into titlecase and returns the modified string.<br>\n",
        "4)You can also capitalize a string or swap the capitalization of the characters in the string using the capitalize() and the swapcase() method.<br>\n",
        "   i)The capitalize() method, when invoked on a string, capitalizes the first character of the string and returns the modified string.<br>\n",
        "   ii)The swapcase() method, when invoked on a string, changes the lowercase characters into uppercase and vice versa. After execution, it returns the modified string.<br>"
      ],
      "metadata": {
        "id": "seetiVyQ7iCa"
      }
    },
    {
      "cell_type": "code",
      "source": [
        "str = \"Hello World\"\n",
        "str.upper()"
      ],
      "metadata": {
        "colab": {
          "base_uri": "https://localhost:8080/",
          "height": 35
        },
        "id": "1gv6oHGK7Unz",
        "outputId": "3ada3c16-84ee-4e1e-e07c-ea9b58f4d5c0"
      },
      "execution_count": 14,
      "outputs": [
        {
          "output_type": "execute_result",
          "data": {
            "text/plain": [
              "'HELLO WORLD'"
            ],
            "application/vnd.google.colaboratory.intrinsic+json": {
              "type": "string"
            }
          },
          "metadata": {},
          "execution_count": 14
        }
      ]
    },
    {
      "cell_type": "code",
      "source": [
        "str.lower()"
      ],
      "metadata": {
        "colab": {
          "base_uri": "https://localhost:8080/",
          "height": 35
        },
        "id": "KJDGRAsV8dxb",
        "outputId": "ddcc0a77-0883-4068-a26c-cfb0702c9212"
      },
      "execution_count": 15,
      "outputs": [
        {
          "output_type": "execute_result",
          "data": {
            "text/plain": [
              "'hello world'"
            ],
            "application/vnd.google.colaboratory.intrinsic+json": {
              "type": "string"
            }
          },
          "metadata": {},
          "execution_count": 15
        }
      ]
    },
    {
      "cell_type": "code",
      "source": [
        "str.title()"
      ],
      "metadata": {
        "colab": {
          "base_uri": "https://localhost:8080/",
          "height": 35
        },
        "id": "mj6VqAWU8jko",
        "outputId": "1e3f2ea7-7140-4ae9-caae-c376a7aafc4b"
      },
      "execution_count": 16,
      "outputs": [
        {
          "output_type": "execute_result",
          "data": {
            "text/plain": [
              "'Hello World'"
            ],
            "application/vnd.google.colaboratory.intrinsic+json": {
              "type": "string"
            }
          },
          "metadata": {},
          "execution_count": 16
        }
      ]
    },
    {
      "cell_type": "code",
      "source": [
        "str.capitalize()"
      ],
      "metadata": {
        "colab": {
          "base_uri": "https://localhost:8080/",
          "height": 35
        },
        "id": "A4jyEMlD8lNm",
        "outputId": "52b5b686-b1a8-40bf-ed53-7f98f8b6a1de"
      },
      "execution_count": 17,
      "outputs": [
        {
          "output_type": "execute_result",
          "data": {
            "text/plain": [
              "'Hello world'"
            ],
            "application/vnd.google.colaboratory.intrinsic+json": {
              "type": "string"
            }
          },
          "metadata": {},
          "execution_count": 17
        }
      ]
    },
    {
      "cell_type": "code",
      "source": [
        "str.swapcase()"
      ],
      "metadata": {
        "colab": {
          "base_uri": "https://localhost:8080/",
          "height": 35
        },
        "id": "0YCbc2fm8mls",
        "outputId": "e194e9df-3223-442c-fc6e-0a1541cdc35c"
      },
      "execution_count": 18,
      "outputs": [
        {
          "output_type": "execute_result",
          "data": {
            "text/plain": [
              "'hELLO wORLD'"
            ],
            "application/vnd.google.colaboratory.intrinsic+json": {
              "type": "string"
            }
          },
          "metadata": {},
          "execution_count": 18
        }
      ]
    },
    {
      "cell_type": "markdown",
      "source": [
        "#### <b>6)Concatenate Strings</b><br>\n",
        "To concatenate strings in Python, you can use the “+” operator as shown below."
      ],
      "metadata": {
        "id": "3urzmZSf8zCB"
      }
    },
    {
      "cell_type": "code",
      "source": [
        "str1 = \"Hello\"\n",
        "str2 = \"World\"\n",
        "str3 = str1 + str2\n",
        "\n",
        "str3"
      ],
      "metadata": {
        "colab": {
          "base_uri": "https://localhost:8080/",
          "height": 35
        },
        "id": "I7RzBUDH8n6V",
        "outputId": "d693aeea-9e40-4594-b4b9-76941207fdd1"
      },
      "execution_count": 21,
      "outputs": [
        {
          "output_type": "execute_result",
          "data": {
            "text/plain": [
              "'HelloWorld'"
            ],
            "application/vnd.google.colaboratory.intrinsic+json": {
              "type": "string"
            }
          },
          "metadata": {},
          "execution_count": 21
        }
      ]
    },
    {
      "cell_type": "code",
      "source": [],
      "metadata": {
        "id": "M3F1Ptf19FML"
      },
      "execution_count": null,
      "outputs": []
    }
  ]
}