{
  "nbformat": 4,
  "nbformat_minor": 0,
  "metadata": {
    "colab": {
      "provenance": []
    },
    "kernelspec": {
      "name": "python3",
      "display_name": "Python 3"
    },
    "language_info": {
      "name": "python"
    }
  },
  "cells": [
    {
      "cell_type": "markdown",
      "source": [
        "### <b>Use case of Oops</b>\n",
        "\n",
        "You have to make a Bank class which have two case executing\n",
        "1. Withdrawal\n",
        "2. Deposit\n",
        "\n",
        "And the Edge case will be ATM  Pin Verification\n",
        "\n",
        "In details\n",
        "\n",
        "Once your ATM pin will get verified then only you can withdrawal and it also shows withdrawal amount as well existing balance\n",
        "\n",
        "And same goes for second case, after verification of pin your deposition of amount take place it should show deposited amount and existing balance after deposit take place\n",
        "\n",
        "And if you encounter incorrect pin then your program should give the output invalid pin."
      ],
      "metadata": {
        "id": "1p3JU2-CWGgR"
      }
    },
    {
      "cell_type": "code",
      "source": [
        "class BankAccount:\n",
        "    def __init__(self, pin, balance=0):\n",
        "        self._pin = pin\n",
        "        self._balance = balance\n",
        "\n",
        "    def verify_pin(self, input_pin):\n",
        "        return input_pin == self._pin\n",
        "\n",
        "    def deposit(self, amount):\n",
        "        if amount > 0:\n",
        "            self._balance += amount\n",
        "            return f\"Deposited: {amount}\\nNew Balance: {self._balance}\"\n",
        "        else:\n",
        "            return \"Deposit amount must be positive.\"\n",
        "\n",
        "    def withdraw(self, amount):\n",
        "        if amount > self._balance:\n",
        "            return \"Insufficient funds.\"\n",
        "        elif amount <= 0:\n",
        "            return \"Withdrawal amount must be positive.\"\n",
        "        else:\n",
        "            self._balance -= amount\n",
        "            return f\"Withdrawn: {amount}\\nNew Balance: {self._balance}\"\n",
        "\n",
        "    def get_balance(self):\n",
        "        return f\"Current Balance: {self._balance}\"\n",
        "\n",
        "# Create a bank account with a specific PIN and initial balance\n",
        "my_account = BankAccount(pin=\"1503\", balance=1000)\n",
        "\n",
        "# Simulate accessing the bank account\n",
        "input_pin = input(\"Enter your PIN: \")\n",
        "\n",
        "if my_account.verify_pin(input_pin):\n",
        "    print(\"Access granted.\")\n",
        "\n",
        "    while True:\n",
        "        print(\"\\n1. Deposit\\n2. Withdraw\\n3. Check Balance\\n4. Exit\")\n",
        "        choice = input(\"Choose an option: \")\n",
        "\n",
        "        if choice == \"1\":\n",
        "            amount = float(input(\"Enter deposit amount: \"))\n",
        "            print(my_account.deposit(amount))\n",
        "        elif choice == \"2\":\n",
        "            amount = float(input(\"Enter withdrawal amount: \"))\n",
        "            print(my_account.withdraw(amount))\n",
        "        elif choice == \"3\":\n",
        "            print(my_account.get_balance())\n",
        "        elif choice == \"4\":\n",
        "            print(\"Exiting.\")\n",
        "            break\n",
        "        else:\n",
        "            print(\"Invalid choice. Please try again.\")\n",
        "else:\n",
        "    print(\"Invalid PIN. Access denied.\")"
      ],
      "metadata": {
        "colab": {
          "base_uri": "https://localhost:8080/"
        },
        "id": "6L-a4atkVrMB",
        "outputId": "5dbff9e3-a2f0-4898-fb36-2619b56b5fbd"
      },
      "execution_count": 23,
      "outputs": [
        {
          "output_type": "stream",
          "name": "stdout",
          "text": [
            "Enter your PIN: 1503\n",
            "Access granted.\n",
            "\n",
            "1. Deposit\n",
            "2. Withdraw\n",
            "3. Check Balance\n",
            "4. Exit\n",
            "Choose an option: 3\n",
            "Current Balance: 1000\n",
            "\n",
            "1. Deposit\n",
            "2. Withdraw\n",
            "3. Check Balance\n",
            "4. Exit\n",
            "Choose an option: 2\n",
            "Enter withdrawal amount: 500\n",
            "Withdrawn: 500.0\n",
            "New Balance: 500.0\n",
            "\n",
            "1. Deposit\n",
            "2. Withdraw\n",
            "3. Check Balance\n",
            "4. Exit\n",
            "Choose an option: 3\n",
            "Current Balance: 500.0\n",
            "\n",
            "1. Deposit\n",
            "2. Withdraw\n",
            "3. Check Balance\n",
            "4. Exit\n",
            "Choose an option: 4\n",
            "Exiting.\n"
          ]
        }
      ]
    },
    {
      "cell_type": "markdown",
      "source": [],
      "metadata": {
        "id": "DKegRp8WWA_c"
      }
    },
    {
      "cell_type": "code",
      "source": [],
      "metadata": {
        "id": "u82FLrI-VsKu"
      },
      "execution_count": null,
      "outputs": []
    }
  ]
}