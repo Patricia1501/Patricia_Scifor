{
  "nbformat": 4,
  "nbformat_minor": 0,
  "metadata": {
    "colab": {
      "provenance": []
    },
    "kernelspec": {
      "name": "python3",
      "display_name": "Python 3"
    },
    "language_info": {
      "name": "python"
    }
  },
  "cells": [
    {
      "cell_type": "markdown",
      "source": [
        "## <b><u>Python Test</u></b>"
      ],
      "metadata": {
        "id": "4KmXCoWwLtBy"
      }
    },
    {
      "cell_type": "markdown",
      "source": [
        "#### 1.Explain Encapsulation with example and write python code.\n",
        "\n",
        "The term <b>'Encapsulation'</b> is the fundamental principle of oops which refers to maintain the data integrity. It is used to achieve data privacy and security. In simple terms Encapsulation is like putting your valuables in a safe.\n",
        "\n",
        "Example of Encapsulation:<br>\n",
        "Here is a class Employee that stores thier name and age. With Encapsulation, these data attributes are protected within the class and can only be accessed and modified through well-defined methods.\n"
      ],
      "metadata": {
        "id": "x5fODKaf5iWW"
      }
    },
    {
      "cell_type": "code",
      "execution_count": 1,
      "metadata": {
        "colab": {
          "base_uri": "https://localhost:8080/"
        },
        "id": "1_SA3r665cQR",
        "outputId": "12577e42-11c8-49a1-b9ca-15d16db69d3c"
      },
      "outputs": [
        {
          "output_type": "stream",
          "name": "stdout",
          "text": [
            "John Doe\n",
            "30\n",
            "31\n"
          ]
        }
      ],
      "source": [
        "class Employee:\n",
        "    def __init__(self, name, age):\n",
        "        self.name = name\n",
        "        self.age = age\n",
        "\n",
        "    def get_name(self):\n",
        "        return self.name\n",
        "\n",
        "    def get_age(self):\n",
        "        return self.age\n",
        "\n",
        "    def set_age(self, new_age):\n",
        "        self.age = new_age\n",
        "\n",
        "\n",
        "# Create an employee object\n",
        "emp = Employee('John Doe', 30)\n",
        "\n",
        "# Get the employee's name\n",
        "print(emp.get_name())\n",
        "\n",
        "# Get the employee's age\n",
        "print(emp.get_age())\n",
        "\n",
        "# Set the employee's age\n",
        "emp.set_age(31)\n",
        "\n",
        "# Get the employee's age again and print it.\n",
        "print(emp.get_age())"
      ]
    },
    {
      "cell_type": "markdown",
      "source": [
        "#### 2. Explain Polymorphism with example and write python code.\n",
        "\n",
        "Polymorphism is a concept in OOPS that allows a single class to use methods of different classes. Here 'Poly' means 'many' and 'morphs' means 'forms'.\n",
        "\n",
        "Example of Polymorphism:<br>\n",
        "Imagine having a remote control that can operate different devices like a TV, a DVD player, and a sound system. Even though the remote control looks the same and you use the same buttons, the way each device responds is different.\n"
      ],
      "metadata": {
        "id": "UONeqi909nMx"
      }
    },
    {
      "cell_type": "code",
      "source": [
        "class Shape:\n",
        "    def area(self):\n",
        "        pass  # This is a placeholder method\n",
        "\n",
        "class Circle(Shape):\n",
        "    def __init__(self, radius):\n",
        "        self.radius = radius\n",
        "\n",
        "    def area(self):\n",
        "        return 3.14 * self.radius * self.radius\n",
        "\n",
        "class Rectangle(Shape):\n",
        "    def __init__(self, width, height):\n",
        "        self.width = width\n",
        "        self.height = height\n",
        "\n",
        "    def area(self):\n",
        "        return self.width * self.height\n",
        "\n",
        "# Creating instances of Circle and Rectangle\n",
        "circle = Circle(5)\n",
        "rectangle = Rectangle(4, 6)\n",
        "\n",
        "# Using polymorphism to call the same method on different objects\n",
        "shapes = [circle, rectangle]\n",
        "for shape in shapes:\n",
        "    print(f\"The area is: {shape.area()}\")\n"
      ],
      "metadata": {
        "colab": {
          "base_uri": "https://localhost:8080/"
        },
        "id": "yBSn9uIX6mU3",
        "outputId": "4d1687c8-c226-4b8d-c76c-d6f642cbd282"
      },
      "execution_count": 2,
      "outputs": [
        {
          "output_type": "stream",
          "name": "stdout",
          "text": [
            "The area is: 78.5\n",
            "The area is: 24\n"
          ]
        }
      ]
    },
    {
      "cell_type": "markdown",
      "source": [
        "#### 3. Explain Single Level Inheritance with python code.\n",
        "\n",
        "In Single Level Inheritance the child class(derived class) inherits the properties of the parent class(base class)."
      ],
      "metadata": {
        "id": "jajMBwyl_Kbk"
      }
    },
    {
      "cell_type": "code",
      "source": [
        "# Base class(Parent class)\n",
        "class Vehicle:\n",
        "    def __init__(self, brand, model):\n",
        "        self.brand = brand\n",
        "        self.model = model\n",
        "\n",
        "    def start(self):\n",
        "        return \"Vehicle is starting\"\n",
        "\n",
        "# Derived class(Child class)\n",
        "class Car(Vehicle):\n",
        "    def start(self):\n",
        "        return \"Car engine is starting with a roar\"\n",
        "\n",
        "# Create an instance of Car\n",
        "my_car = Car(\"Toyota\", \"Corolla\")\n",
        "\n",
        "# Access attributes and methods\n",
        "print(f\"My car is a {my_car.brand} {my_car.model}.\")\n",
        "print(f\"Starting the car: {my_car.start()}.\")\n"
      ],
      "metadata": {
        "colab": {
          "base_uri": "https://localhost:8080/"
        },
        "id": "S6Udf7x7-9KI",
        "outputId": "ba13fb2a-2186-4430-9446-2e446b5bc830"
      },
      "execution_count": 3,
      "outputs": [
        {
          "output_type": "stream",
          "name": "stdout",
          "text": [
            "My car is a Toyota Corolla.\n",
            "Starting the car: Car engine is starting with a roar.\n"
          ]
        }
      ]
    },
    {
      "cell_type": "markdown",
      "source": [
        "4. Explain Multiple inheritance with python code.\n",
        "\n",
        "In Multiple inheritance one or more base classes(Parent class) can be inherited by a derived class(child class)."
      ],
      "metadata": {
        "id": "Ia1ZqSKLAuvZ"
      }
    },
    {
      "cell_type": "code",
      "source": [
        "# Base class 1\n",
        "class Camera:\n",
        "    def take_picture(self):\n",
        "        return \"Picture taken\"\n",
        "\n",
        "# Base class 2\n",
        "class Phone:\n",
        "    def make_call(self):\n",
        "        return \"Calling\"\n",
        "\n",
        "# Derived class\n",
        "class Smartphone(Camera, Phone):\n",
        "    def use_app(self):\n",
        "        return \"Using app\"\n",
        "\n",
        "# Create an instance of Smartphone\n",
        "my_phone = Smartphone()\n",
        "\n",
        "# Access methods from both base classes and the derived class\n",
        "print(my_phone.take_picture())\n",
        "print(my_phone.make_call())\n",
        "print(my_phone.use_app())"
      ],
      "metadata": {
        "colab": {
          "base_uri": "https://localhost:8080/"
        },
        "id": "uFg5AUFDAsf0",
        "outputId": "38fd2969-d469-43dd-9aec-f88c13c55b0c"
      },
      "execution_count": 11,
      "outputs": [
        {
          "output_type": "stream",
          "name": "stdout",
          "text": [
            "Picture taken\n",
            "Calling\n",
            "Using app\n"
          ]
        }
      ]
    },
    {
      "cell_type": "markdown",
      "source": [
        "#### 5. Explain Muti-level inheritance with python code.\n",
        "\n",
        "In Multi-level inheritance one or more derived classes(child class) are inherited from a single base class(Parent class)."
      ],
      "metadata": {
        "id": "LvyzZDW1AydM"
      }
    },
    {
      "cell_type": "code",
      "source": [
        "# Base class\n",
        "class LivingBeing:\n",
        "    def breathe(self):\n",
        "        return \"Breathing\"\n",
        "\n",
        "# Derived class1 (inherits from LivingBeing)\n",
        "class Animal(LivingBeing):\n",
        "    def move(self):\n",
        "        return \"Moving\"\n",
        "\n",
        "# Derived class2 (inherits from Animal)\n",
        "class Dog(Animal):\n",
        "    def bark(self):\n",
        "        return \"Barking\"\n",
        "\n",
        "# Create an instance of Dog\n",
        "my_dog = Dog()\n",
        "\n",
        "# Access methods from all levels of inheritance\n",
        "print(my_dog.breathe())\n",
        "print(my_dog.move())\n",
        "print(my_dog.bark())"
      ],
      "metadata": {
        "colab": {
          "base_uri": "https://localhost:8080/"
        },
        "id": "YnA3qTmfA5DE",
        "outputId": "e24cfe74-d54e-42a3-bbfe-69001b27afa4"
      },
      "execution_count": 12,
      "outputs": [
        {
          "output_type": "stream",
          "name": "stdout",
          "text": [
            "Breathing\n",
            "Moving\n",
            "Barking\n"
          ]
        }
      ]
    },
    {
      "cell_type": "markdown",
      "source": [
        "#### 6.What do you mean by conditional statements. Explain with python code.\n",
        "\n",
        "It helps us to make decisions based on certain conditions\n",
        "\n",
        "If-else, Nested-if and match/switch case statements are the conditional statements."
      ],
      "metadata": {
        "id": "gtpaKTgCA5dX"
      }
    },
    {
      "cell_type": "code",
      "source": [
        "# If-Else\n",
        "n = -10\n",
        "\n",
        "if n > 0:\n",
        "    print('Positive number')\n",
        "\n",
        "else:\n",
        "    print('Negative number')\n",
        "\n",
        "print('This statement always executes')"
      ],
      "metadata": {
        "colab": {
          "base_uri": "https://localhost:8080/"
        },
        "id": "AgaZhzHgLNfG",
        "outputId": "6abb826c-6ccb-413c-8056-d4d181fe070f"
      },
      "execution_count": 16,
      "outputs": [
        {
          "output_type": "stream",
          "name": "stdout",
          "text": [
            "Negative number\n",
            "This statement always executes\n"
          ]
        }
      ]
    },
    {
      "cell_type": "code",
      "source": [
        "# Nested-if\n",
        "num = 11\n",
        "if num > 1:\n",
        "    for i in range(2, num):\n",
        "        if (num % i) == 0:\n",
        "            print(num, \"is not a prime number\")\n",
        "            break\n",
        "    else:\n",
        "        print(num, \"is a prime number\")\n",
        "else:\n",
        "    print(num, \"is not a prime number\")"
      ],
      "metadata": {
        "colab": {
          "base_uri": "https://localhost:8080/"
        },
        "id": "RkFY2hoRA61D",
        "outputId": "923629f0-92ac-49cc-cbc5-96397d966fde"
      },
      "execution_count": 15,
      "outputs": [
        {
          "output_type": "stream",
          "name": "stdout",
          "text": [
            "11 is a prime number\n"
          ]
        }
      ]
    },
    {
      "cell_type": "code",
      "source": [
        "#Switch statement\n",
        "def vowel(num):\n",
        "    switch={\n",
        "      1:'a',\n",
        "      2:'e',\n",
        "      3:'i',\n",
        "      4:'o',\n",
        "      5:'u'\n",
        "      }\n",
        "    return switch.get(num,\"Invalid input\")\n",
        "\n",
        "vowel(3)"
      ],
      "metadata": {
        "id": "EP-l-owPLTHP"
      },
      "execution_count": null,
      "outputs": []
    },
    {
      "cell_type": "markdown",
      "source": [
        "#### 7. What do you mean by decision making statements. Explain with python code.\n",
        "\n",
        "Decision making statements in python allows to execute code based on certain conditions i.e. True or False. They help to control the flow of the program.\n",
        "\n",
        "The main statements are if, elif and else.\n"
      ],
      "metadata": {
        "id": "rIuiuvSDA7MC"
      }
    },
    {
      "cell_type": "code",
      "source": [
        "age = int(input(\"Enter your age: \"))\n",
        "\n",
        "# Checks the condition\n",
        "if age < 13:\n",
        "    print(\"You are a child.\")\n",
        "elif age < 20:\n",
        "    print(\"You are a teenager.\")\n",
        "elif age < 65:\n",
        "    print(\"You are an adult.\")\n",
        "else:\n",
        "    print(\"You are a senior.\")"
      ],
      "metadata": {
        "colab": {
          "base_uri": "https://localhost:8080/"
        },
        "id": "S-WgC3JbA70W",
        "outputId": "2e3d4627-acc8-4eee-cb84-8d97313072ee"
      },
      "execution_count": 14,
      "outputs": [
        {
          "output_type": "stream",
          "name": "stdout",
          "text": [
            "Enter your age: 25\n",
            "You are an adult.\n"
          ]
        }
      ]
    },
    {
      "cell_type": "markdown",
      "source": [
        "#### 8. Write a program of factorial in python\n"
      ],
      "metadata": {
        "id": "XPLPWWQ6A8dT"
      }
    },
    {
      "cell_type": "code",
      "source": [
        "def factorial(n):\n",
        "    if n == 0 or n == 1:\n",
        "        return 1\n",
        "    else:\n",
        "        return n * factorial(n-1)\n",
        "\n",
        "num = int(input(\"Enter a number:\"))\n",
        "result= factorial(num)\n",
        "print(f\"The factorial of {num} is {result}\")"
      ],
      "metadata": {
        "colab": {
          "base_uri": "https://localhost:8080/"
        },
        "id": "B3BXoQOTBIbW",
        "outputId": "9b1e4dfb-f7b0-49b4-ebcc-37a760c6f097"
      },
      "execution_count": 4,
      "outputs": [
        {
          "output_type": "stream",
          "name": "stdout",
          "text": [
            "Enter a number:7\n",
            "The factorial of 7 is 5040\n"
          ]
        }
      ]
    },
    {
      "cell_type": "markdown",
      "source": [
        "#### 9. What do you understand by Functions? Explain with python code.\n",
        "\n",
        "Functions in python are reusable blocks of code that perform a specific task.  They are defined using def keyword followed by the function name, parentheses (), and a colon :."
      ],
      "metadata": {
        "id": "T3RX38c5BO8q"
      }
    },
    {
      "cell_type": "code",
      "source": [
        "# Addition of two numbers\n",
        "def add(a, b):\n",
        "    return a + b\n",
        "\n",
        "res = add(5, 7)\n",
        "print(res)"
      ],
      "metadata": {
        "colab": {
          "base_uri": "https://localhost:8080/"
        },
        "id": "4ATmIRkYBPdK",
        "outputId": "5cdd8ac8-d95e-4d48-880c-1b14a5f9f3e5"
      },
      "execution_count": 9,
      "outputs": [
        {
          "output_type": "stream",
          "name": "stdout",
          "text": [
            "12\n"
          ]
        }
      ]
    },
    {
      "cell_type": "markdown",
      "source": [
        "#### 10. How many pillars of Oops we have in Python?\n",
        "\n",
        "There are 4 main pillars of OOPs in Python. They are: <br>\n",
        "1)Polymorphism<br> 2)Inheritance<br> 3)Encapsulation<br> 4)Abstraction."
      ],
      "metadata": {
        "id": "cdotcJsABQFR"
      }
    },
    {
      "cell_type": "code",
      "source": [],
      "metadata": {
        "id": "w4JP2sYIBQcs"
      },
      "execution_count": null,
      "outputs": []
    }
  ]
}