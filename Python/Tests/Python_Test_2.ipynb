{
  "nbformat": 4,
  "nbformat_minor": 0,
  "metadata": {
    "colab": {
      "provenance": []
    },
    "kernelspec": {
      "name": "python3",
      "display_name": "Python 3"
    },
    "language_info": {
      "name": "python"
    }
  },
  "cells": [
    {
      "cell_type": "markdown",
      "source": [
        "### <u><b>PYTHON TEST-2</b></u>"
      ],
      "metadata": {
        "id": "s07B1iwvYw4A"
      }
    },
    {
      "cell_type": "markdown",
      "source": [
        "#### 1) Python program to show all the levels of inheritance."
      ],
      "metadata": {
        "id": "s1e1cgzqN_-2"
      }
    },
    {
      "cell_type": "code",
      "source": [
        "# Single Level Inheritance\n",
        "class Animal:\n",
        "    def walks(self):\n",
        "        return \"All Animals walk\"\n",
        "\n",
        "class Cat(Animal):\n",
        "    def mews(self):\n",
        "        return \"The cat mews\"\n",
        "\n",
        "# Multi Level Inheritance\n",
        "class Kitten(Cat):\n",
        "    def milk(self):\n",
        "        return \"The Kitten drinks milk\"\n",
        "\n",
        "# Multiple Inheritance\n",
        "class Goat(Animal):\n",
        "    def grass(self):\n",
        "        return \"The goat eats grass\"\n",
        "\n",
        "class Domestic_Animals:\n",
        "    def __init__(self, name):\n",
        "        self.name = name\n",
        "\n",
        "class CatGoat(Domestic_Animals, Cat, Goat):\n",
        "    def sound(self):\n",
        "        return f\"{self.name} can mew and bleat\"\n",
        "\n",
        "# Hierarchical Inheritance\n",
        "class Bird(Animal):\n",
        "    def fly(self):\n",
        "        return \"Bird flies\"\n",
        "\n",
        "class Sparrow(Bird):\n",
        "    def chirp(self):\n",
        "        return \"Sparrow chirps\"\n",
        "\n",
        "class Eagle(Bird):\n",
        "    def hunt(self):\n",
        "        return \"Eagle hunts\"\n",
        "\n",
        "# Hybrid Inheritance\n",
        "class Fish(Animal):\n",
        "    def swim(self):\n",
        "        return \"Fish swims\"\n",
        "\n",
        "class Shark(Fish):\n",
        "    def attack(self):\n",
        "        return \"Shark attacks\"\n",
        "\n",
        "class FlyingFish(Fish, Bird):\n",
        "    def glide(self):\n",
        "        return \"Flying fish glides\"\n",
        "\n",
        "# Testing the inheritance\n",
        "\n",
        "# Single Level\n",
        "cat = Cat()\n",
        "print(cat.walks())  # From Animal\n",
        "print(cat.mews())   # From Cat\n",
        "\n",
        "# Multi Level\n",
        "kitten = Kitten()\n",
        "print(kitten.walks())  # From Animal\n",
        "print(kitten.mews())   # From Cat\n",
        "print(kitten.milk())   # From Kitten\n",
        "\n",
        "# Multiple Inheritance\n",
        "cat_goat = CatGoat(\"Fluffy\")\n",
        "print(cat_goat.sound())  # From Domestic_Animals, Cat, and Goat\n",
        "\n",
        "# Hierarchical Inheritance\n",
        "sparrow = Sparrow()\n",
        "eagle = Eagle()\n",
        "print(sparrow.fly())   # From Bird\n",
        "print(sparrow.chirp()) # From Sparrow\n",
        "print(eagle.fly())     # From Bird\n",
        "print(eagle.hunt())    # From Eagle\n",
        "\n",
        "# Hybrid Inheritance\n",
        "shark = Shark()\n",
        "flying_fish = FlyingFish()\n",
        "print(shark.swim())    # From Fish\n",
        "print(shark.attack())  # From Shark\n",
        "print(flying_fish.swim())  # From Fish\n",
        "print(flying_fish.fly())   # From Bird\n",
        "print(flying_fish.glide()) # From FlyingFish\n"
      ],
      "metadata": {
        "colab": {
          "base_uri": "https://localhost:8080/"
        },
        "id": "dbt-9HaUOAvm",
        "outputId": "ed5fd1bd-a69c-444b-fcc6-fd159977f404"
      },
      "execution_count": 9,
      "outputs": [
        {
          "output_type": "stream",
          "name": "stdout",
          "text": [
            "All Animals walk\n",
            "The cat mews\n",
            "All Animals walk\n",
            "The cat mews\n",
            "The Kitten drinks milk\n",
            "Fluffy can mew and bleat\n",
            "Bird flies\n",
            "Sparrow chirps\n",
            "Bird flies\n",
            "Eagle hunts\n",
            "Fish swims\n",
            "Shark attacks\n",
            "Fish swims\n",
            "Bird flies\n",
            "Flying fish glides\n"
          ]
        }
      ]
    },
    {
      "cell_type": "markdown",
      "source": [
        "#### 2)Python program for Method Overriding"
      ],
      "metadata": {
        "id": "GK6XWL9sN1fV"
      }
    },
    {
      "cell_type": "code",
      "execution_count": 3,
      "metadata": {
        "colab": {
          "base_uri": "https://localhost:8080/"
        },
        "id": "UT005QdKJEa2",
        "outputId": "5d56ee41-b5dc-4159-bbea-37f596f68e70"
      },
      "outputs": [
        {
          "output_type": "stream",
          "name": "stdout",
          "text": [
            "Playing the instruments\n",
            "Pleasent Music\n",
            "Playing wiht strings\n",
            "Playing with the keys\n",
            "Music on Beats\n"
          ]
        }
      ],
      "source": [
        "class Musical_Instruments:\n",
        "  def play(self):\n",
        "    return \"Playing the instruments\"\n",
        "\n",
        "class Violin(Musical_Instruments):  # subclass\n",
        "  def play(self):\n",
        "    return \"Pleasent Music\"\n",
        "\n",
        "class Guitar(Musical_Instruments):  # subclass\n",
        "  def play(self):\n",
        "    return \"Playing wiht strings\"\n",
        "\n",
        "class Piano(Musical_Instruments):  # subclass\n",
        "  def play(self):\n",
        "    return \"Playing with the keys\"\n",
        "\n",
        "class Drums(Musical_Instruments):  # subclass\n",
        "  def play(self):\n",
        "    return \"Music on Beats\"\n",
        "\n",
        "# Method overriding\n",
        "instruments = Musical_Instruments()\n",
        "violin = Violin()\n",
        "guitar = Guitar()\n",
        "piano = Piano()\n",
        "drums = Drums()\n",
        "\n",
        "print(instruments.play())\n",
        "print(violin.play())\n",
        "print(guitar.play())\n",
        "print(piano.play())\n",
        "print(drums.play())"
      ]
    },
    {
      "cell_type": "markdown",
      "source": [
        "#### 3) Python Program for Method Overloading.\n",
        "Method overloading in Python is a feature that allows a class to have multiple methods with the same name but different parameters."
      ],
      "metadata": {
        "id": "o5yYd4FWSDxl"
      }
    },
    {
      "cell_type": "code",
      "source": [
        "class Math:\n",
        "    def add(self, a, b=0, c=0):\n",
        "        return a + b + c\n",
        "\n",
        "# Testing method overloading\n",
        "math = Math()\n",
        "print(math.add(5))\n",
        "print(math.add(5, 10))\n",
        "print(math.add(5, 10, 15))"
      ],
      "metadata": {
        "colab": {
          "base_uri": "https://localhost:8080/"
        },
        "id": "0_pV_MFXNktl",
        "outputId": "0eefcda5-c355-408c-854b-9272b30960cb"
      },
      "execution_count": 4,
      "outputs": [
        {
          "output_type": "stream",
          "name": "stdout",
          "text": [
            "5\n",
            "15\n",
            "30\n"
          ]
        }
      ]
    },
    {
      "cell_type": "code",
      "source": [],
      "metadata": {
        "id": "uqM1rO_xTnF6"
      },
      "execution_count": null,
      "outputs": []
    }
  ]
}