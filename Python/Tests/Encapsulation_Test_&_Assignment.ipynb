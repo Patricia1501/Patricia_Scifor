{
  "nbformat": 4,
  "nbformat_minor": 0,
  "metadata": {
    "colab": {
      "provenance": []
    },
    "kernelspec": {
      "name": "python3",
      "display_name": "Python 3"
    },
    "language_info": {
      "name": "python"
    }
  },
  "cells": [
    {
      "cell_type": "markdown",
      "source": [
        "## <b><u>ENCAPSULATION IN PYTHON</b></u>\n",
        "\n",
        "#### <b>Q) Write a documentation in python which have encapsulation basics, real life example, and implementation.</b>\n",
        "\n",
        "![python-encapsulation-example.png](data:image/png;base64,iVBORw0KGgoAAAANSUhEUgAAAv8AAAIFCAMAAAByLGJvAAABCFBMVEX////p6u//AAAAAADZ2dnl5uvj5Om/v7/w8PDh4ubZAocsLi3/5avp//8BCCH/kk7//+YCVaWPj4+EyP7/+8lISUh/2VhSAwAABVX/yocpCwDlpVOkVQIVCAjJ//+n4v8GgMVfF+wABYF8BgBUpePGgQT///TA7f0MJ0P89vZaWlue0PZDLBHt0K7+6Obxs3Hc+/9vbW7QjjkDNIdwsewlRWyJOgc8ktTot5bShuHQ0suye0hAerdwUC+xsbGgoJ+yZw/kt/HDkWGMYUGNt9tCY5NkMg1ijL56fHzxh4psX+7SqXaVIevZWbiJhoTaKZdhi/PwusXjWIhiOe2927On2ZH/VVX/MTG8ocfYAAA9WElEQVR42uzY0XHDIBBFUTywIEqhhfRfWJbVKrYmrkDvHpGJ/X/9hlF5AbroH8rK63j5yT8O5+knHPGF/Yeg4+NTyf+AonKL33h4Hv+kI/u/MeDB/u9/qoCML/0PQET2b7f+CyDh7N/2KflDMPqHilE9ePvcf6N/yPD+u/fvj+X+0z90vPvv7D/kjNq7bdm/sf8Q4v27nX/n/gM5o175z2v/O/1Dxaizd68/+t/oH0Kifzdn3H+M/qHE+59ev2P/oSf33/Pn/g890f/cGvsPNSv7Z/8hyfs/NfYfatZf/2029h9y2H8oe/fP/kPNiv6bH/YfikbN2z/7Dzmx/y1uP+w/BLH/kLXO/hv7D1HRf+z/D/sPLbH/Mf+8/4Gidd1/uP9DUe7/5P4PNcsf9h/K2H/oyv3n/T9E7f5n4/0/FP2yd669acNQGHZkgazSRKVQFbLRopVbR+iFQWEqrIzS8gFp///n7Dh2MKhTukhRuPh9SitEcvLpydtjxyTr9Q/If2AlyH9gLyr/sf4H2EqY/1j/D6zkFt//AlaD7/8Ci1Hrf3D/B2ApyP894fGFgQwx/X8+9D+P/N8pBfi/A7T/Se7/fHrJSwww+H8MhP7njf+5tPwv33DJcOEyAP/3FX3//3zq+U/+KyYMwP99ZeP5L6nnf12I/DP30C3B/73l/5//NZ763nCx9r/8HHDvrU3veq++anPu6KPO8sH4r86WBmNn82jnJq+vAm9gilQVbZP7Vq5XAR+WqGDmNZhVwP/MMf5//vzHVr/GJSPtfzXgkuIDq/pc0mDlJ/WRu+2/2VK5lv53LulNVEQ7vHNJpxT6P9X7UdmPK2YT8D9jjP/6BIjNfxJ24oh5beKSmqGry7xY+aRqkxfbYjyhE6FW6Yre4/Vm/rfC/qfPOwvRe+J16b88jilqzbiseiLdpfTDrhj7vIH8Bxlg8p+I7//7/NsV6Zxb9z8O/d5L//uksj5FKt1/jH+LLsX/SO4t/1s0w1w3Rac3vCG31bySPPKAWp+vvM7sA/7vAPP8aycXm/+tme5r1v7fvUwD1aq8c+rfu2HWc0/19Mb/ztKVjivoFGqGxzFFVV8eLVSf/ngl+A+yw/hPmPz/3H/y1nt7GdOAlYQd01jWkwnf+xNwme9m/kfWbPuv5dZF2/7T4eA/yBLyP0f+O/Sj8j++//nVVv6TpCOmhRXR5lvZBFGGm/5fIfsfEcK0/6Zoo/+B/yBDjP8Eee+o/I8Z/+adea3SljM6LklazJXDwe0Xb+mIZ6ny5Vtb3Psf/SfRKwshVhcLV/tvijbHv8Z/jH9BFmj/HfLf5H/c/KenJjPrpDQxpLeDGQ8Z0WiYEyTyB/+pROINovxvRUVb85/Gf8x/gkzQ/jv0Mvkff/2L9aa86J7NaQBwVQ28QWs8rXG14dX/cP1Loq9/Dbts3f+YInP9C/kPssX4L8H6/yTA/6Mg6n/ohfX/SYD/aXJRSEaNFwTy/5iw3H+emLT9R/4nA/6nyPeEFNL1P4f8Twz83yHnyP8jA/4n8h/5f2QUzhlA/lsL/Ef+2wz8R/7bDPxH/tsM/Ef+2wz8T8X/3kmEg/w/JOB/2v4j/w8J+J+K/9WTk58iBP3/QQH/08r/3+j/DxD4n5r/mP85QP6ydzbaScNgGA4nU+sGPczCAYoVpqwwGYMhDHSgbjKmos6/+78Wv/ywwOhqi3VNx/ccrZiWBD1P3qUhEPQ/2vEP5n+yQP+jvf89w/xPFOh/xP5j/icK9D+a8Q+O/5MJ+o/zP5sM+o/zP5uMtv6X6a5+W1gFeP8L8z9RoP8Rr384w/xPEuh/1P5j/icJ7fxP8x2qhP/yu/16hD/g3+SXE6fDoO/6Z8z/2NHN/9IhNXcorQn/2zY14ZdF0i/Yg2I9d8JOFy0SFK39x/yPHc38zz6lowwp9ZvC/9wxRP4+9IYSrRLSYt+C/6pD0k0SFL39x/yPHc38T78oVpbG/25qOKU18L5xuQV/z70wR28yJAQ6+4/5Hzu6+V9Y8j97atPGGPwn0AuoOeqQ1hj+vHhGgqK1/5j/saOb/zz/3ZT0v8tGQ2XwHzCgC7A74YMW29cwKFr7j/kfO5r5L8f/9igD/nf4dle5E3b40GS7l9SyH6ALdIPvVKW3/5j/saOZ/3L+x6xBH6D9epfSHRv+Wu1SMRFUdvjpHgmK1v5j/seObv5fz/+753axkju1zdEW25lnOHb4/H8L5/+R++y/1mD+3zfQ/3uU/3KXO0VL/NT0omzvdlYLfCg7A+JFiRYrqqn/TwleJ/ofEL39jzb/lf9KFUrBTu+JBjjhVXCQunVmuu7jv2rqP8OnQdD/gOjt///O/zLb5HqLeNLOjzIrBbfvAu+yun38V01Fj3ujQed5PTr/vxHkX/1Pz9d95ra3v2qU/2Uacqhwu//pgmn5+a+aip622pRYbnHcQ/9jwNf/q4z0P4b8Fztd95vgv3xsXtSZy4zdzO3ry0ElaziljZ4sKFGO5XU5C10xDTchRE3Ecf9VU4tv5M/gNVnkeofujCg9t81Rx+X7eC/Vozji/4CKnA00+9NiZd50UwyAoKH0tF/ZDP/ffvv2hujBrf4Dr2PM/+x7CjQOmf+5EwqAlMH8f+nANab1N//3eb63HTq/2qaMgY//Y/EyiNt1KKPGS48pUD2Vl6t6FOkpBaC/setle/NKzJroi8/gQKsb4j+lSfB/+yy+/AcvR6nUKVeiSxsTo3UCDw0W2oZB/PznFxdoVRS4RzD+8XoGCA6Xw3GUMmaXhK1Hv6gb506xwv1fbQrM7TeNoc2sLzcm8OKgAlb6qmKcUjhCARiu6lkc30DRsMB6YVdcWGX31yb/F4L5pMxaTE8bTfT/DvH3/yeYn4kt//fpq2c8+atw4GHahrwWQUn8/R+IcM/wAjX+9/QfRh7yprkNCvIGe8J/1ZTyv0dkda4Bv5n/srRExbFYWaxHYYjnW/KGpsSq7sK/UCwPE41v0Pg/Ef6/HsLvGPJf2SnnaCBROSBNIP97wf0X45HGRYUFs6R2q/+mRebVtb6NbSr853OldH5crEeRnX04pFTmf91l6kPPk1jof0z4+5+FnwCp9fM/Nv+tMP6To3dgstkL4j+UiupA4MbHyXlg/6Hr9J/85q8sPZUnl/wvo/9x4O8/O3yNIf+9xj8Gh0Tlv7r/dQ05/dLmw32A/N1/eNiECzz9V/XcmMWVr6xtUzE71aW78kLRFvofA77+k0/b2z9iGv+Xlu5/ixPDmOUnmfX8333wuHPL/KfbhTvZI7gkAwOh0UOjNb6oQ9umJZ2EC5yBh/+0ZrSmMJRZ9X+xnkO4QHbmeurUoTX++Y+th4Z4K9u8TMGFlx3i7m/Y/GdC/M9dbQNx5D94tjL/afbWyH8odtRgZGU8v1i1TRmvnvEB10A2BfWB1Mv+i2eZxwVarK/4v1DP/rzdtsMKxrxWhzL6ahJ1ftOC858x4Oe/+BKgOPJfvv9lLr3/1W+Stfx3Z4d8wOG9/iE7m4qq1Xta/KOpVZX/q/6T9NhpXJJz28t/VU/pUPoPL8HsV9JTc8CqltZDM2O4sJeR6x9w/jMO/P13PzH/tVz/f2DcgPhi3MR7/ZtXN4EkX5O2ad0scfiiiq7qxpGvf8uj/5H5T3LMfy3X/+9TwW6BAv4rNfkwRnBMOXJkNAiyOHltN3Mn0MrKbX3TMFpww9G5sf55k9b/JMd/MtQ1/yPwPwhte0TWJD19VV/tTXR+w7EM+h8Gbdc/B8n/oy97nM/6fRvqKrlH//Bf4pHqrQ+H8g23ZXD8Exid/ffNf+X/Z8Z3gggw/0Ogtf8B879OEAXmfxi09n8h/9H/wGD+h0Br/zH/YwfzX//8Z2AnuAbzPwRa+x8w/z8z0H8J5n8YtPYfx/+xg/7rn//o//8j/5Hozv31H/M/dtB//fMf3/9aBP0Pg9b+L+T//Vj/kDzQf83zH1kG/Q+F1v7j9//HDvofkf+tn/Dxx6sfmP/JAv2PxP+jn9uCqxTmf5JA/6PwP/uTZf/jH/xb4DD/EwT6H4H/6nNfn67OMP+TBPofgf/sg+8PxCMc/ycL9D8C/7NX21cZnP9JIuh/BP4vfO3hHeb/I8cP7EzoP6C1/+vlv6rDB51/mOR9IX8B/Y8Df//V+Cfq/H+9t8f3/PkCf9zgST7/8vhWdPaf+oD+J89/cn3/m/v6MNr8B/9/dbz9f6R1yPuw4wf6n0D/1fwnbIMUdf7vfb9n/vuwg/mfRP/F+18/+PtfUef/r729CvqvQP/jQfnv3QEEXzNRj/+/v4a1z+j/Neh/LPj7T1y1/i3i/P9+8GXPQv+vQf9Do+v652D5T872ftXR/znofyh09j9Y/hMXDuj/HPQ/FDr7HzD/yRFMAqH/EvQ/FDr7HzD/4Yj+X4P+h0Jn/4PmPzn4gv7PQf9DobP/gfOfnP03//fF5i6tsSM2tgsP+n8T9P8O1n9G6n/JlpsihQf9vwn6Hz7/Y/a/TItNY4vEDvq/Sf7rk/9ltsWiBqD/m+T/nef/kI3yJ9ePmtL/7FO1yyMrqabh7Ih1iCO2l/ZFZV5KGxZpwbFHgCw/V1/eMrJYmf/VGk7ZhWqLa1E6O4TniC2u5+f6E/R/I/2/6/xvOxQwLeJ2xaOat//9AgWqbFNSynhe56UnzO+3BVEFyZ0o4b38f+mothg1XvrRZg2dsyK2U3bZpowB+i/x+JDHDqU7+fw7ogHJzn/QfJQyZpfsdtccpVKnsK+6GP8YZXDcMIj0H04ePYWTIOxF3RgWqMVLL1OtAjtCAQjbpY2J0TqhVe8dhPnZAjtbbkygLWgGStltRtlhx3PWVdIvKDRw7sDDQP6rnta4aG6C/wd0jkM0INn5776nIxHxXRa+YB94J8f/zHbJPj9Z4lFuELhM+r/bgR4kj1WIf57abSjwlhTOispdA5qe+z/g9Q1krW3eCFTVC+V/I39IKf+3KNqH1bX8PyZac0wlWvRTH//TbPGz3vnvpgtiN2noCBLL038okf5nZ2wHauF/lXDz5RGimwNP9B7/9K6ran0b21T63xPmy2OXSmqh/IenuzObjd4UZXov/T/YoZw80QEf/z9tAymt85+Qo3dgotnz81+YLvwHSc3+k98v1vLfkv67MFD6ODmX/luR+K9+hg3Httm32EtiWOJeu3d//CdbDgWch0QH/rB3NlxpI1EYHgjHjQopHnBVlK5aGogI+IE1Bj0rltpFay0rH///n+ydDzpxUxKSBpxJ8p5TAzIJ9JzHlzt3bu4Q/l1ugOkK7f80ErkFEs+UjaqKhVz5pw+LTv5Z/KMSIafs/Ge3tuvwBr/kv6Ucss/hn/8dPGuAubVWgk+a7xxDVLRZb5Xwc60QHf7R3wJ185jNf2NtbfC89iS0/+tntR5MbIHEnRJMY9XGzdcTHO1Xp/znb7WKnX/yYqpTVio5B//gv9s9VX3c7OW8+FcqauMeruTkH35cr8Dn+FL1zz98N8EF4Ez4OIVp/FM8reN3rUSIf3QkSPDvyn8fgh/cBSJ8/ze6D9ADop37ff5ZxlJrs5wkiclbZQCd8Q84nr+3898iecobRbl08s+v5s4/GaedbinbVQf/LP8J7xqQf4T0lcctzj88T5n30eLf2DwyQtLC+C+C9+PvgKvQ/d/4BvS/wL+T3+YfZrP3CqtyM29wnJwDXu5KWmGW/9N1quy95uSfrX/B1Tz4R7CYVvuK7kpO/vnaWND4p4iXz+45//kOXO4mWvw302FqMu6bzdD5B/S7pA1cLmT/16EBRJX8FbST+mfH/Fe/xah/5Pyf4azobsK/l8b9QUj88/CHtsEK2f+brPC5WUUJ/478J0moZuEH8M9WJi7JzDzh31vjZlj8E+dXVdWEAChk/4fCfxb4JPw7179wIne9vK5oFVzBrWmFM3heguf7Cf9zaDIIr/8b03PI/X+60Pwn4X9m/UPxM8wtyPwEPUIGtF3sQGVHZk9J+J9Pk74R0v4XUwXc/yXhP1D9m4FsiuL674L5B/XD639OMkDB/D+JfwLxj0Tl31DVldVMKFpJL1aTwe/yb4Lt80boIfo/n/92H5L736nE599QGfly8A8zYSMg/7z2IYUW0P+Z5z+bSf5zKtH5VzMgufhPpwfC1v/rbP3rIZfwvwAdhcu/sZLJyMg/fAWIWv+vk/qHXhL/Mwns/4R+OflPT5pi+j8omf/aJLD/pwiukvIPMZCY/v9TSf8rJjH9P1jcbw1Ho+FQCP7T/Tj6f8z7X4Xl/0awlM/oT6qhCPyn+7H1//j2vzp9y9AH8GeyROA/3Y+r/7v1v8p+gNd83mhw/n7x/Gfv4V124OO/vf8HnPcO/+QSgv90P9r+P1f/Kx1eU2AUK/GvfVYq/29UtatQ7SMqXsWv4zKc0zJ+odk5hl+ehME/3N5Y4AemXUUrcP4dw5fI/2omqP1zWULwnx5E2f/n6n+Vv1XYqOnD65y9UZWTf97hCh6yK2F7Zrd2hcH/nlLgB6bi5+sTxr9z+BL5NzJB9adNQzH4Tw+i6//z9b/Sby96ahFKKMmwtvpYOqzaG1U5xTtc4XGX0B9rm/RYuajjDliVoPzzDovZLQV0OKSH99mtw9G9VoADiX9oQ0YGfRbeO8vGIf2Rno/0O/5V5OA/bPwtkLz8p5uR9f85+18Z8DxP+ac94F43qnKKd7gi+OGTK+yuFHin/cD8w9tBdT9cNotv1tz8MqQH4F8rabW/GP/wuKQoFTv/bFz+Fs4v4f/qGbnQ5SL4N34d04+k5X9iRNX/0Xz9r/TG9+Oywvy/QH7YG/U44x/e4Qqo1yr4bdoko8piocD+vwt/rpjy1/EP6RqBD4z/CkRd8PE5/9NxrfJ5Ff9f2/m97TrK/5FbAP/GzJBeVv7TY8H8v4tvfg+Ff92z/xWFrPa9d4vZZuM2Ttz5t3W4QnQqcFgNgX+KV6fs5B8Y5/yDvZPfOPk/wy2BNo+VS/0jTN1TC4n/Z2d0RjLmf4gGYvk/VIAe1JfX/wr6KlRpEwg6h8WN0O2NqpyydbhCzT2FhNwk/lGxcsHjf4jstU2H/xPwOf8brLG6k/+PCtUlKnZKilKrh8+/W0ZHwvw/U9Mv/1ABTfS0uoD+P99eugc/ltf/CiKKNu75vJECDz+3VjHA9kZVTvEOV3hK0cukcnSycV5XU52LegD++d8VoO3Kv7v/87mHDl8kMDJk/lcCRTRclljrv1ONA/IP6obu/wB/8xsEQMvqf0Uae2r/lOEhPMeqte2Nqpyyd7hib/H1Z/6zVgjM/w5cED7fYZXOqBE7MP6d8T/tys4m4CT+h8cwiTghE4kdGB4y/6rfiN6p4QgipZEY9T9cgwD8p9SMuQaHsP3/6qCuk93fl9X/iuQT89gui595U1u+xOUU73DV7JR+rh40OzT7GNz/Pyjaeu0Y3p4kcM7fswPj357/0SpkPWxzvVaC0XQcyf/USgpOiLJEUsj8e8xoJav/tGnin//nHLsRMvz+b1X8HbD0+meWH0VgnEph7m8YrU3BrYRR/2DeKxf11nGtjvu6aRdVduD82/P/5MUvFv7MbBzP/xc7i8j/r0aW//QgGP+NEPs/8AYQ+C7gl/fL539HwbOEFF/1chebJqRUWDJT2pLUv/0G/6pHRYNs9f92TUTxf3z/78MD3AFWXyr/PK5nBRDzCUccbJ4Qff5/OaG15T9l5j89ECT+h/CH6sey+ae7P5YVKJjzxp9XLNyUyBmy1D8H5191T+mPpLv/65XGguR/WP8raIPyXqb7H43o8z8rpcnwl+/+x9dqCpH/N64O2qwLRNL/h0gU/rn9+6h/sxoNWfgfB4j/w1//hb4/f7Es6I+Ef5Aw/Pvn2Gq9w2o1pOA/bfjlX/j6TwkkDf+qf/zfTdWQgv++CP6f8L9gHR0t647Hd1xS8D9O/H8eyc7/6ZLCn4aNf1MG/tNG4v9zSHb+j5YU/pg2/ltS8D8QpP4/4d8mQfj3H/603tkkBf9jQer/E/7tEiP+ycSA/0ni/96Snv9A/m9kYhD/pBP/91Y8+U9lgqc/QQ05+G8m/u+pePIfpN+b6Wb/bHHYEor/QeL/noon/5kgarniz141BeK/n/i/pxL+/S4BmO6rY2aM+J/H/7sHWA/1hH8iIfg3XAP9hmmajeCz44Yw/I9F8P8uvv8F/gLaCf9YwvM/jXKsoMURrfjwP5//P+TIXWAnCf8gIfhX50nzW/4iIy5h+J+I4f/AP77/pRoZ/l1AWF+Xm3/T5uMJ/z78P078ryuzJbn/21d5rYT/sPxfv4rS/r+bsvOfconjA61yWdLz3+w/r609P60swP+p6tGZ//7tKuSuSPJvP8+Ukf/GGtPVIvI/oGo88p/eEoF/NTz+nQGQJSH/+X+B/MzAfH5OLSL+j8/6l5dk4t8KtABgibP+NX/+M8uMvxm4/0PC/9voVIj8D2jQIieJVP/ji/8nRJX4v1RaXP5/4Lbl+2goQf1n31f88/w0gNcS/5dLp8te/+VbvkeIf5R9XsN67ib1n3Ip/PofswVhjDnHli9D0fn3U/+cN/+l+Z+k/lMqnS6p/pO3R+QSnX+/9780Sf/bxP9l0vLqn50N0oeC84/m51+nhz40wE3835M5VyF3CeH/q6Fs+T4Sm38f/R/0/lNuyn/i/5Gv/0ErIfAPEpv//vz8mzD1vRoM8CGX+L8n/7NV9q7/FMH/1eDxjzz+P/Dj/7z//5v5P9u0167GTZntd2cfsVvaOJm145HLVkc7pY3cjE2PCvjwuaRc9D5t/xX9+n+E4hD/+9r/ukHr31LB8//h80/3YGdA8hH5Pfidf/5hb7sCms0/3Ta10CpvnMjEfzD/R6th5H8sofkfi7L/e3D+d5XtuppxjGhtXuf887+rANmz+W/hbbMzueIHrR0D/j0bAMmf/zeRdP3fgG53ZPkIv/yD/SsV5ML/jnJYpe+wkYs+/4Y3trKv/zYF8f/m1cvBi1f9c/7uWLmoA93ssfaFbJoOYjjaR+yS3zVIvJ5DxQ9K4fFYqfU4/2yvayCbMK/fwlk7ZXiJnwWfi+6pS/kH7EF4E+2Wsl0lG2lHmn8IgALLGuG5ryV4/c8YieH/zZeDgxe3+1/4vqO1Y+CU7VoKIHP+7SMY/2RuAKpg/jfLOHavMP71szJ7SQczJ4DTHeKriJ+Fsvdso9NX/NNn8ANeiDT/nhkg2fe/GyAx/J9s/KV33fd/b5WV61Sqo2C6z8DK1cYneKhiZlXVMYLwD2hXVfP6BPOv4RNgLPP/3VoPhtI/EvIcw/wRw83P0m+Vi7ragC8ISrwBvl+H9yLfGTHw/9kZoIjwj8Twf7wBpHf8/5HYbRGgxz8uMe/YuXeBWccIxv8ZkIxAwD85YaesFRj/ugr/MP/0Yvk9IJryz8+CdE8b4ef7lH9yKrtcJfrxP0KpmR08I8F/Hwnj/y/tquHOPxAKsOJwZR+DSQW4cv75CMY/iV9qX+oE2AJivj2N/7/flBQYRK0/uwW/pPzzs1gghEfFk380q/K5kQkuy7IEuf/LEMT/2QbwL/Ww+Ud5E6ay2qWTfx0iqH96dzCIhv54OOOfnzWLfzgjJvyn3Dt4Bs8MjQTgv49E8X+I/R8OQAUf8Y9KhFzjH6Ti8AUGOOIf8Ps6G4TD/OtPONKh819+Fo5/VKwccvBfiAX/aGbnHyso/kyjN+d/gpAo/k+U+nbwMP/8d7unqo+bvZyNf+f8d1f7mlI7lH8+/4U/AuLgauNeOa/S8wj4NP/Jz4I/jPO6mupc1Mn43E/+W3CMw/wXIcOlg2cADW2FQW/Nv4mE8X9jld8FOTv/uefIf2pt7v/2EYx/4JeIxD/r5IQKLWK4JBfQTrdwIh9exWOm61/8rGn+s1Ygb7hP+WfrXzHIf2KteHRwC14Z+sb8T5Aw/g/5nx5COmRBvda/tFfrX+DLnH8+gsf/unlThpUsOv+FM+AhyLzHU4ibcu0ruith/tGZohX4YvL0LLb+BctspMoOLkj5h6vB8Hj4/6sIyAyVf+tt+W8iYfwfyJ9j/Su4WP5nhlgilde/eSom9W//sXcuXEkEURwfGrM1YE9JHAVbzEQeIuIDk/CVZgZmltWx7/9NundmWFDkvbR32fs/xUN3BzznN/+587qjVRzB/8uwL7hSKfce+qHDf1PQ8X9oZa/1+gcf+M/N4wxXtWP988DCgrb+eSL+RWQQ/92HH9Hn/68Ylf9Xv0z6nzewAT5o+7/68I/Bvxzs50HO/z8Z/2LhqQy2lX55sWrk45/tyfgP2v6vPvzHrtQKt34KOf/iqQ5AvW9+5zrx/u+dCJf/k1Lg+C92TwCU+x9+XRs8/vnHR/6bQoTL/0kpcPyL4mPI6wOOxaiQnv+6F4L9fwSFnv8H02D1QWmhUYNmwP74uP7hb1Gw/4+iwPOfFB5WgNNNqAFj+j/qbPOPn+vfEH/2/5HE/HdUgBeOjMLTWPG/uT/p5/pnxJ/9fyQx/+2VEHVcR7I7KACa6y11v3/83wP+7P8jivl3t0MmJeq01/lGA7cHbErUmV/83wsxNv8m71uM/T+c/GMM1JBKTr3fCY/1PsG/uf+FP/w3xbj8t/N+1jj/Z0j5F+JUGiV7HHFXq9XKc32Df61o3Q/+t8UE/Jch99vd3V0TniLe+r9Z+Lx9M0PnX88m/yp6MRHQOGrffzYW/96H/hTyfzL/D0WX/xfJaFQ6OgAaR4vSyPnv/v/3TgzQ4Pyfv1r5P9n/w8k/CodvJpEjN30Y/2x2mT+d9f/M/yMR578hrIDx/wT9hNb/M/+PRJn/opS3+GQtBIb/pur3sv8T0Uzwj7IiCwHgX9PP/k9GwebfknLxYYUQxZEUlZvFLm0/m47uda+X/Z+Qgs1/BPmfRMC/6NI0+L9vGviD4v9raxnmfwpqhI//v5p9AvwP9n8Ev6qyoFzz/K8RXf+fl/LMe/7FtocqChQR/odZ/2Pyn/zOM/9ahP1/wQv+KcuP/J+Q/hPzn/D6n5bo+v8c8y8Er/8MEv8N5p+4/zP/j0Ta/0+Zf/b/APHvqf/XmX/2f+Y/hPzjxi/2/7Dz/wL4D9af7yX/7P/Mv3wRrD+f/Z+WmH9BWez/XWL+mX/2f+Yfdcr8s/8HCwCv+a8H68+n7/+5m7US898W8z+SSPPf4f9+8Z/bc457n2WUF0/o1Vv3mL3C17gYR3hMEg0AaPGfDBf/BPz/zbo5I7KtnBXXNUMeip7866NQ4cV4wmPyZo//Mynn2P+D5f8X0a+iQ50HucNzT/6x4hxH5nfGrnZ2lQQAtPhn//c//m/xvydfx/vzXxXjC4/JHsw/XmdaoRXd2HR/l0Sfc82Y///H//c7Jcr+j5YOUbs5G/t17QrYap2IPfc5DadZI1AggBPwOdSnXOMZeCbehysM/ymplHBRg8IKqkKUP6exX6B/+m0LbsnB48Gq+Z05Pbsil/ND8r+fUaA/4r+y9Y4i/wuh5d8oQtj/Y0t2UoLsBCJf2JKy2uL/4Ephv+PyH1uSVeyomrfmFbQNT/O/6ahysT8tUVn100Yab75wpKZ4Bd9qQ4fiE0PybyfU9Y/4X5H0+Ac85pl/yv4vl0tWeQk4x3jiS94Sin/z5gjptip4jSVSCu6UgzfsrmI4VLi0yh/kO81/LrYus5blooa/XFJFFS4jkSNVY9axpBUHHy+waLgFPuXCgZf4VbJD8i8PFe6a/5huQUw1TcCzbmN0A2WaKmhw5MEfX/iPhJN/FP34Hz0dWQIY9YNw+TdMJtz43/CfXi6ZEUuFYQWbCBP/twFWsZKJ6XMWfOcW/4eq0ENTdAVLxpKqeMuw/H9Z2s8A78sn+KkpiMHgX/YVhmXJZAm+S9KOYsOlGqioI/fzWFelnbad4finhEfI+Pch/tdo2wlA/n2mg39grJt/RbK0Dy7j6N1KcNeT/FfdPm359iQtDf9VXah53JNG2VH4z36yE3D/uw3V9NhwVwpqhBv/IPCpNFZofIXVFMqGq+D9f+f/lvmfhv8r/fScf4TV8I9vnuQfcd7C4H0Q/wnDfw7ipMblheE/0YP/UeKfbAWQXrET+EVj63Y0mUyml/Mu/7oyLa/mPrkNVMp5n8cf+sF/cUL+o4KyfPF/w7+38c9A/s21RYF+ayfQWC0l0Zd/qGIlXV43/xX5Pm+hRur/ZmPr+5m37/OK/yVTCTv4T2j+dU0QKaig+N8v/gXzT3f9Z0f/tw//jl21FtzoHXqslbSN5r18aVnfkpdxIO11pMV/7Opg9SH/MmuVryAW6eIfH47nrfIJ9laxLzAk/7kN+2zpndD+797V5p+O/zeYf9LrP2H8M2rGP3vzD06PUY6e/6qkJWo/gz9G4bTtHhow8m+mpTr5V5fZu1DR8l38i5VWaaPMf2VFxcFvrON/eQwNy+dL9ZV32vzTiP+Zf+r+v1w6Stsw/9Wbf3g6cXBAETsLesaqPf+lb31zBP1N1/8LpU7+8e7CV3GR7ub/4dwYED0k/1j8fkZ/0VRaYhU+1q/sRJv/7vGftA/8O8w/af8HToaTWf82UNNe/4b85zbwm2y44/+FKtbcb1vwos3/o/F/24/x/13mn7r/D82/Wf88ULz+mfmfSf8fRbz/hfmfOf8fUsy/q81J+d8MF/+8/3fW+I8y/4T9n76Yf0FZ7P9dYv6Z/9YK6O/s/8x/SPlvmsX/3vv/OZz/ssP8T0e3Xn5eMrz8v/qF/J9Pw/8/wvlfJea/LbL+H2L+yy9f3v2AAMh7/y/e/D5f+8n8t8T+74MG8t+E4Af+P/fe/wH+7ZvfOwHOf5VKv96hyr/H/p8MKf9vwPuxDfjo/fr/j2sl3AMW4PxXcGmWKv+3zL8X/Jcx9n8DI0Bxr/2/eLOWxzYgUPmvcuKBcEE+Uf4bSUrRW2D5x/BHPT732P8B/Ws8Bf53Jkj5ryp2h+Hra4nyf0uMf0dQVi/+0fkty6pBAOSx/xdh9Of6Go7ALhHOfyW21e90swHlHFypKlQ7cfSGgdwnKJAo/1FK/O8GlH8A3+hH3FP/x/BH6yfh/FexK7MrFz/CfEArExa2BCrZBPM/s/6fa750de6p/2P4ExcYAK1lKOe/grtrSzKBl+2vRo70Vi37OAIvkXzccR8K/jdD6f8Y/rS6wR+99H8c/am2sgDRzX8l3IwOZpei3j+8nxFmx3qF+Z9l/mto+2YY9EfcS//fvllbNZPAP+nmvxKvvn2GYMr4fz6H6EPMb5Rg/mebf1z7EHHHgc7prv+cUv4r7FccLOr9tqYrkBUd/HP8M9v8B2b9/7TyX2EZJgmEyphSqOrx07yFIt3/XfSSf4f5J73+f1r5rzYg6IkcOTIbh8uO5+YtverB/hqBbFcweJrbCMf4pyN3mX/S/j+d/FcVB685kZio05EoqBRm/BNKoTz/tcj8h8n/p5P/Sh/wEruyDwXMqRnqcf5L5eohvf6B/T9U/j/t/Fcmr9UeNCDBWP/msf83mH/a/j/d/FfYEyhZVhl6CDvBWP/sqf/LSflvhIt/0v4/hhB1aboJAdn/skiKf/b/gPMvyjgRVviyGpj9X6T4xwTSlBVw/6evQPt/Ucpb5v8fe+fCnDQQxPHrXH01kKFEphCalrYQqKCgReuDFq2Ko/Vd/f5fxd3LElKvkFCxucD+ZySRS0HpL3/2XruL839aAEHqMf8o5n9OGcx/Av9/BIv/L9QWAOZfyWD+70pZZP4X6/+09m2p4p/H0+XJWB7N5X+tWGT+r+n/q8R/Sc6QJ2JkLv8GFFDSdDP8R/e/sP/HyfKmivkXJisJ/+z/WRLzvwj+D2GZLy79hwPH/5mSWfx/zSj/401gHP9nTcz/Ivnn8Z+sKcJ/VYLspx96/5xS0u5TYeJr8H8oDBb7/7LpEv92qeRKSTv+SRVL27qjt9IhzPa1mb+a/26nxvyz/xukCP+0CeIZ7PaJEi6n8k+t2kXnD9pT/L8qmX/2f5Ok8a82PtO+Hzg2JKoeZr9Daa10AObfvfVqWLNb8X+mMurRzdGQNcot5sDPnwS7kPzzEb7qqvLP9b9Sl86/2t7fdaXtStz23MGoqI+7Py2PXF5rpQP8pGVbdeIfz3GjaIR/zCVZKrVFFe6eDv5815OWi81RvgxWHP+8/jNr0vkXDTjef9wWyHEY2lQHefhmoF1tWqs6IPNHTaFa6Dy3Bach/xT/QAcB0BddeLoh+8K/0xMryj/7f+qawr8Q/trzUUg46nD9lUf8U6vOPz4V8t8Xinqd/4oL3xYlyzvagbyr724Lsar8s/+nrinxT+EVhCgnIeEYsUOIQ/4ftur8OxH+HXpNnX8ZaLPnn6lsSavKP/t/6prS/30iId6phoSrzBkQtxD/1Dqdf93//Uv+D69D8m+fueXmivLP/p+6rh7/BHqPKeUv5vLFR4C0S2lctFY6EP9a/O+V4eyA8sz0VPxfhzeCUdLK+x5lCA75WhMGK+P7f1lJ57+eSGm5lrRrCK7t9vHRanUkoqq30oH4vzT+c9QE3GWrZHWCnPDSxtyrnrQ70q6rUSUX7rcV5f+f/f/07gwZ/U1qiqasf4AUX/ZgfVsxO5KtOub1etrudlptcUUrHYj/v8f/VWM/CH3OO3Cqxv+h50t1c+CaFeX/n/3fkjNUEqyMrX8bSnlbGCzT/J/5Xy7+i6vF/z/6f7H4uDhLgpUx/tn/p63/YY215PzfEwbLqPwPLOY/Vkbzz/6fuozjf10YLPb/ZRPzz/6/ymL+2f9XWUPmn/1/hcX+z/6/yprNv/+63H4ta2GR179VeN1yBIkWPqCoGKyuijtg/tn/DdJs/rteTXTV2k6qYakXlK3Nw7//2nbEDJ1mmH/I/7bG/p81Da2ZFdAA19wBPEypYemfPd1Nzj/VB1xS/0f+2f+zppn+X4EtisIPAqAn6vE5Jm5w0Pj3f49sR634pGwQAf9YCbZN/Gt5HvD58i77P/u/MZrl/8Q8BkC43QUrf3uY+AEQhkrirt3aRf7DbBDIv+VZHrQT/3qeB9wiPJv/l8Jg/Vf/590sKWiW/5PzqwCo4mL4kwMPR+Yx8B8Ioc4j2SAaCv1nsqb41/M8BL1o5v8K/2f+U1CM/5NZw21wHGZuO7x9vqX4B9KJ/0k2iAZcGGxyRP71PA/MP/u/YSrG8o8OfrQTbGe/D5H+05Hif3+H+I9kg2jIOm0GRv71PA/MP/u/YRrGxz8YAA239pv4hKL8L/4pG4Tu/3qeB+af/d8sFeP7v4i9hDOaA8jBQ5T/MBuEFv/reR64/8v+b5aGseOfoC7w36cbwfIsadcj/EeyQYTjP3ilfazneVDjn8w/+78xip//UgEQ5rFV8b/X+pAb2cdR/sNsEJHxf5E7kTU9zwPOf+Vn8W94Shv2/2XTMHb9w8JE6x+ynNKJ/X/ZNIxb/7YrFiZa/8b+z/5vjMxa/8/+r+vWi4u9i09NwVJi/ueXqeufk/j/m729vQv40xcsJeZ/DpnNfwL/f6TI9+Eu2BUsFPM/h8zmP4H/v9j7hAef14COxfzPIbP5j/d///Nen8KgT3nBQjH/yWU2/7H+j/y3x92AnmChmP/kMpv/iP8z/4nF/CeX2fxH/J/jn8Ri/pPLbP5j/T/s/x5y/3esJef/VBis/+f/PP6ZVMvM/8vT01XiP+L/sfNfjmApLTP/piuN/G+PeP1DVMz/PDKbf17/mbqYf9P9n/U/NfQEawH8P/z5bWPj24+77P/ZEvO/CP4LHzcCfXvD/p8pMf8L4N//iN6//gPvgjX2/yzp1CD+KZuWJsopJNLXFP5zgH9eRUEbG1/Y/7MkM/y/26llmX/w/SDuKfzc2Oix/2dIZvBflVnm3wfq1yZ3Avt/hnSD/GPSrHVIoNL2IUnKoIdPvMX0KMg9ykH+oQnzpIjCWUe2PuBFjzC9yjny79Nz6Unnn1wfwx/Uc+Cf/T9DOr1R/ssntiv3z21LYrq4SidIj1V4BVyXSm3gv4RNmz2hMmZ58qhJZx7y/wTP8AeTy2z+2f9T1836v6wjz0eI8ma+sI3pEStb8Ncw/gHgK255V1QJ/WPRlSptIvBf2C63ReFOXswng+Mf9v/UdcP+30SUkXrgH9LqWpAf3YUnQ/7rQYkYlXJdlQ7oNcIaHH4DgqU1cR0Z2v9NtP93rz3eB8MKlF3/39+J8r8llfYj/DsB/3gR9XqBfzrDRItStq7DgaHjnzH+T/xf9Jj/S8qu/1/mH0DXxn9m+D/a4PorTMmbloh/XWr+6wfNfy3a//e+J+K/Ch/pOGUxfbQJlBtd9/Okd7yOqECiCZNCKfo/nA3ykFL3XVAyYML/lPhfVOHyyta+gfxr6x8W6P8XsPUlnn8kHz+ZKnxceL7ZS8qw7SyGfxjFcObj34RJoRT9X1RcicM9A6HObGfCvzb+Y8F/NbeFZ9fyHEPXvyXy/++wBTIfyz95Pmao79P3aRKB/Qx6OlhW/xr8b8s5+TdhUihF/4cnVOFUOBHnHTiJ8B+O/6uaS/bgeRD/mzn+/3/3/34//LznxPFPoCBWQI2P9QapRO1f1Wnl03Zw6RlOtNDvBH4bD08gs70QwRzLqLw7IRpLveFlv+D38GHMew7/cqYqelJq+6A3By9GJXIDPcJfGd5h0bfAf8Uv4N+ESSGT1v+YrzTyv32HLZAXzXj+VfWpivvhYLNX2J6UqL2iOi2yZdmWGnkg/ltucJGPcyz4FaLxb+MVskb4H+Bl+F1MX9TQmzuB26z0fmdcIpd6F5LmeiZvgdM48GKedEyYFDJj/UNWlIr/q+SH8fyrQrNVuw0p63MHAAaVqL2iOi1NtOB0DPEPvInCa1W3qtyGPtZmT+NfFXnziGvqnqH/Y6cMX4SunpTIRfmv6nmKdSNvAWfwCtIxYVKI/d98/4ckEKB2kvCysb9TlX3o/iKUBKtenRbIoVqcY/7hAXkDupB/eE7jv9yk+m+qAV9K8QqHQxiUI/6jJXJJdx++xcvCt8B+evBSjgmTQsy/+f6Pj/H8IyO/DjbzFfe4iqAossWV1WkRVeq/Ev8IsuKt6klLwonGP1xGLNKR+r8PT6RdCv0/UiJX6fkIWl3FP70F3QnIvwmTQsx/BvxfHH5OwD9YYXGrDqhsbttOyD9Vp43xf4ITbxegCbq50/zfmfg/3T/lNjxP/EdL5KIqroqziP+//d+ESSGO/7Pg/+JNDP8EjOrCNqQEWIn/SXVaPf4/kPXL/GML/CiJMH8iw/i/q8f/FXyvLiKNDEdL5NJ1f9g7G96koSgMk2DUBNeoSBQMahQBZXNkgh9zfs3NxRhNNP7/3+I5ty+nZ1wWygQs9H0TcdLb0unD8fau52Go06ShvYSf/xfhh0Ks/8Wu/4uk2ZJpg3Kj4ID/c59O267a+k9b1lQEp5h/XXRpnA2Bb9Ko9VuB/6St6z9Hbv0nqYV6LSs8/V09qr7Sywf2Ebk4o6TVbwmn9hJY/5GD1YvwQyHyX+z6nz8KiXCgRCll4P/8p9PKoj/W/0/kaaz/e/6731tVDS4AdNDhE6z/6/K9rf/rH3T+ozP88WB/tz8Io8c9+4hcHaaL+uOHxzILspfAk7r+X4QfCpH/7an/cyL8z/lRrS7/j2xijYDSQvTfpdnU+982P8Wu///MP+pwVws7+WdKV//DJbRMp5NRhfwzpav/MjeX2xiS00GF/DNbVv8Z8r+q/i80QN6R/q/C1n+G/K+KfzRA3qH/bcNC/pfCv+Qt6/8GhvwvhX/NZ9b/zQv5Xw7/v4X8Hdb/jQv5Xw7/b9/Ir8LV/8jukL+Ntrl7aydaOY2WRP9dEdE9SEaVxRKfYvxTPPKPrIv/myqBK1r9h93BGRVy8o+7RZs1JQz8e9FDzL9tWkwRgZuWfEN+P5e6BadI/udkXfzrw4+i1X/YHTIa8/N/4/2ZbnL8O7wi/t2mRRUR358Pprp4cvGPU4xyMO6Rf5e18a8SrF8rr/9mVDDxQff712qqR9hT88JJxYkSAqMwMphRAQMHXqOQstrBW6QpD4r+06qmo/yH2zx1lIkeVNwAJUTkgJijiICSIptcQUgxfigvq9GdvNfB74EWsxO8O81qEZ5PxtJso/ybSIL8r4v/O2IAWnn9N6OCiQ/229VaK3Sip6YHbUKBlGEY+J8YGSZGBR3YFyLrXqMQBFqPJj0l1VGA60BGNRojYazRqsmwng6D6EH4v7crxxXUIgfEHEWEKSk8/7VU8tBstKQB+Ggnu9df4/fQl5Ox9+rgX4aFc5PndRA6cTKRBPlfE/9q/1x5/TejgokP1PXTvTbUiXRHSGlbo9T7Uaj/ZmRAcZeBCpLaIlwbVXj+5YMbT9pJvSsKiRQum/+kLTB1P4sJLWHdgxkOiHmKCFNSeP4hecD8x/V6afwecihpKrsxQP3Pzq3ZDs1mnZT/TCRB/tfEf/fb6uu/GRVMfHBffr8aeq2k9CkydTTKZnP0rhoZwL8OlKLeqEnPrGujlag1aD/5ePf1nVfyhOdfxwFez38wLc5wQMxXREBJ4fmH5AH8u17fytQe+v49OpSjgn87t2Yr8P8oPVomkiD/a+Ffcmf19d+MCiY+6B7r7zphmSga9FfGP4wMjv9qGrSRY8cA6+jp4yuvbu1Zw7q//o35192aMxwQcxQRTknh5/+Of+yOU4v2kOPJ9QTeonZu8oBJUtjZRBLkf038K5wrr/9mVDDxgZb3YylzUf1/kc46YGTw9R+8V3z9D18cvZI2yXu3ZYf8/McOiDmKCCgpYv4vrv+2B/JsT2ZG0/zrtZFe8IJ/OQ7Xf1wKeP/zovXfGxVMfNA8HYZ/7Gj+/2r8UBk1IwOMChAw3Hg+8BoFjTa5d+RJuQQw/nVTzH/H8R87IOYoIkxJcQH/Sf38/H96j5tfRhWd50zzj6qAEzSRBPkvLP+Xqv8wKvyB+CAslLRUHxiv/+yg/sPIAKOCOK6wMpJpFMBNuJZ8InMG8K92h9Zoin+IHoz/2AExRxFhSoqYfzVYy+hbU+s/fo9w+vL1KOZfl7fGJzo8OdqZiCTI/8W5vmB+/vf6nxkVJuKDF1hdj9f/sepiRgYYFcJAnSh4jQJQFHaFJa2jzfTxa7XfmeIfogfjP3ZAzFNEmJIi5j89p9Ph+fX/83vsYWF/iv8X76qapK7fsWyBSIL8X5xGdcH89/rPXBBVl/bChcMj3v+2Ifzz/s8lBSJdLByR/7y5vWCeN26z/hc0Qr5c1qj7kfwXPqz/S09X74zSSwbe/1/8sP4XJOQ/b1j/tzHXqhUmT1j/tzIfyH++sP5vZVj/c4b1fyvD+p8zrP9bGdb/nGH938qw/udMoev/zU/9euQ9yaMm0YfZW5YVHCw+38WsLdqKPEtMjTYY1v/NypLrv37kEewi5j0pJv9qVMH55rW2gP++tKxhg1OlkP+NzJLrf/d4/BA3UZr3pKD8yx9xvvmsLQjaHHEwU6WQ/83Mpes//tGb1bRFd09vMq4E9M0ugt4UE6TgvmncJQ1/iuffNnppicQUIs5PYm4V5yQxBYk+p2YV/8nB4RVsLIwqut3dsO2+Ezt7efijd2cPp1vVtJ0tHPsjVCmy86HsrGcSH5H8FzJR/b8c//2WdbzWYRcx/k2QoglNMCoHMX+K4//mJ7TQmLQE/EMh4v0kmVvFnCRQkKB3RlUrvWn+bSyMKmG7a9ix78Tzn0CvMsW/9kSGVs6JKkV21pHJ7COS/yJmSfVf0dQb3pUnFF0jCIIUkCxtkTL0bMf8KY7//fbLnr5DRl5aIskUIuYncW4Vc5K4D9ZuKqV7vaj+21hMVnS7F7bYd+L51/5F+CPA/wvtgNEGST21Ov4qsHO6KT4i+S9illP/9UEAm82/CVI0BwDB/Cme/4Pwmde71dfnpSVOIZL5Scyt4pwkT9Hqrr6t/tkV8O34t7Gefydsse/E8w+9ivEfos8dyMvdkDel8W87x0ck/8XMsub/Oxfzb4IUK5/en+L5B1vCv5OWSDKFSNafiCHeSaKFHRjq0asyZ5/i38Z6/p2wBc96/sOD5z+8R097qQLjwX19y4F/23n6iOS/sPnX+r+fg38TpFj9f7Fj/hTHPzbCs+D5N4VIxr+5VcxJ4uu//u8ib4HRFP8Ye2H9z8V/2IZp2YmoumL+3RHJf7HzL/VffYefZvPfcfybIAXzf12V6Q+cP8UewoRZhg+j+T8UIsa/d6uYkySb/8vYgZ6bru8EQ2nK/9D5S1Cio/l/fv51XL8FkUvd8++OSP6LncvXf5nWJ43dWjvm38tH7qqfGRKUsNdkicf8KfrVuBcedP2nr4Zck5YAOlOIOP7NrWJOEmGzrU8FvwnWee7LSdb6er0cXsHGwqgSrf/k5R/b02UhqFJsZ3dE8l/sXLr+w1mydzfmH3YRN/8/t/7/VSfmzp/SPRY8w4Ot/3tpSQgUIp5/c6uYk0Tn/8e7QajeffO+rV+EUzk91PHhFWwsjCrx+n9+/gP3eiITVYrfGUck/wXPVt3/CTHz+qLuat7/ucnZqvs/182/Lv7z/ueNDuv/pYIrGSn/5H+jw/p/qeDTX86G7H/Z7GxV/d/kHB5WmFxh/WcY1n+GYf1nGNZ/hmH9ZxjWf4Zh/WcY1n+GYf1nGNZ/hmH9ZxjWf4Zh/WdKH9Z/psxh/WfKHNZ/psxh/WfKHNZ/psxh/WfKHNZ/psxh/WfKHNZ/psxh/WfKHNZ/psxh/WfKHNZ/psxh/Wf+tltHqQ3EQBAFA2aczf0vnPFmCJLxCdRVsrFhf1uPTab/JNN/kuk/yfSfZPpPMv0nmf6TTP9Jpv8k03+S6T/J9J9k+k8y/SeZ/pNM/0mm/yTTf5LpP8n0n2T6TzL9J5n+k0z/Sab/JNN/kn3of9k/Kb4ftfff/gnS+1/73177hxCPyf/6/gMxtv23as/2A0d7tqr3/v9dAAhwz7/W/bdyA0hQU/99/30hbq4Bh6ox9X/vf38gwCx+3f/cAHeAs827zrb/6/43D+Bg28Sv6f+iHOfg82+y//X66S/kuXr/EOjq034Bz7S/OyAKHQ4AAAAASUVORK5CYII=)\n"
      ],
      "metadata": {
        "id": "Z8XjzcaG9qeX"
      }
    },
    {
      "cell_type": "markdown",
      "source": [
        "### <b><i><u>Overview:</u></i></b><br>\n",
        "<b>Encapsulation</b> is one of the fundamental concepts in object-oriented programming (OOP). It refers to the bundling of data and the methods that operate on that data within a single unit, or class. Encapsulation restricts direct access to some of an object's components, which can help prevent the accidental modification of data. This is typically achieved through the use of private or protected variables and methods.\n",
        "\n",
        "A class is an example of encapsulation as it encapsulates all the data that is member functions, variables, etc. The goal of information hiding is to ensure that an object’s state is always valid by controlling access to attributes that are hidden from the outside world.<br>\n",
        "\n",
        "\n",
        "\n",
        "\n",
        "\n",
        "\n",
        "\n",
        "\n"
      ],
      "metadata": {
        "id": "BAzONcHw-XZI"
      }
    },
    {
      "cell_type": "markdown",
      "source": [
        "### <b><u><i>Encapsulation Basics - How is Encapsulation Achieved in Python?</i></u></b><br>\n",
        "In Python, encapsulation is implemented through the use of public, private and protected members:\n",
        "\n",
        "<b>1) Public Members:</b> Public members are accessible anywhere within and outside the class. By default, all members are public unless explicitly marked as private.\n",
        "\n",
        "<b>2) Private Members:</b> These are members that cannot be accessed directly from outside the class. In Python, private members are denoted by prefixing the member name with two underscores (_).\n",
        "\n",
        "<b>3) Protected Members:</b> These are members that can be accessed within the class and its subclasses but not outside the class. In Python, protected members are denoted by prefixing the member name with a single underscore ()."
      ],
      "metadata": {
        "id": "nAqH2DfnXTE5"
      }
    },
    {
      "cell_type": "markdown",
      "source": [
        "#### <b>1) <u>Public Members:</u></b><br>\n",
        "\n",
        "Public members are accessible anywhere within and outside the class. By default, all members are public unless explicitly marked as private."
      ],
      "metadata": {
        "id": "8pg-nt4uIVFE"
      }
    },
    {
      "cell_type": "code",
      "source": [
        "#Python Program to demonstrate public members.\n",
        "\n",
        "class Person:\n",
        "    def __init__(self, name, age):\n",
        "        self.name = name  # Public member\n",
        "        self.age = age    # Public member\n",
        "\n",
        "    def display_info(self):\n",
        "        print(f\"Name: {self.name}, Age: {self.age}\")\n",
        "\n",
        "# Creating an object of Person class\n",
        "person = Person(\"Alice\", 30)\n",
        "\n",
        "# Accessing public members directly\n",
        "print(person.name)  # Output: Alice\n",
        "print(person.age)   # Output: 30\n",
        "\n",
        "# Modifying public members directly\n",
        "person.name = \"Bob\"\n",
        "person.age = 35\n",
        "\n",
        "# Accessing modified public members\n",
        "print(person.name)  # Output: Bob\n",
        "print(person.age)   # Output: 35\n",
        "\n",
        "# Using a public method\n",
        "person.display_info()  # Output: Name: Bob, Age: 35"
      ],
      "metadata": {
        "colab": {
          "base_uri": "https://localhost:8080/",
          "height": 0
        },
        "id": "jMxNVwbLIVl3",
        "outputId": "6b4b716b-8b99-4d88-b710-a5b7ecbdabcf"
      },
      "execution_count": 19,
      "outputs": [
        {
          "output_type": "stream",
          "name": "stdout",
          "text": [
            "Alice\n",
            "30\n",
            "Bob\n",
            "35\n",
            "Name: Bob, Age: 35\n"
          ]
        }
      ]
    },
    {
      "cell_type": "markdown",
      "source": [
        "#### <b>2) <u>Private Members:</u></b><br>\n",
        " Private members are not accessible directly from outside the class. They can only be accessed through public methods of the class.\n"
      ],
      "metadata": {
        "id": "_yOr_y1mA2I4"
      }
    },
    {
      "cell_type": "code",
      "source": [
        "#Python Program to demonstrate private members.\n",
        "\n",
        "class BankAccount:\n",
        "\n",
        "    def __init__(self, account_number):\n",
        "        self.__account_number = account_number  # Private attribute\n",
        "\n",
        "    def __validate_pin(self, pin):\n",
        "        return len(str(pin)) == 4\n",
        "\n",
        "\n",
        "# Creating an instance of the class\n",
        "account = BankAccount(\"1503\")\n",
        "\n",
        "\n",
        "# Accessing private attributes using name mangling\n",
        "print(account._BankAccount__account_number)\n",
        "\n",
        "\n",
        "# Accessing private method using name mangling\n",
        "print(account._BankAccount__validate_pin(1503))"
      ],
      "metadata": {
        "colab": {
          "base_uri": "https://localhost:8080/",
          "height": 0
        },
        "id": "SygRMNEjBobb",
        "outputId": "d7b9b887-9f39-4728-d0bd-2f13a023b527"
      },
      "execution_count": 21,
      "outputs": [
        {
          "output_type": "stream",
          "name": "stdout",
          "text": [
            "1503\n",
            "True\n"
          ]
        }
      ]
    },
    {
      "cell_type": "markdown",
      "source": [
        "#### <b>3) <u>Protected Members:</u></b><br>\n",
        "\n",
        "Protected members can be accessed within the class and its subclasses."
      ],
      "metadata": {
        "id": "VIF2n_UFC4V-"
      }
    },
    {
      "cell_type": "code",
      "source": [
        "#Python Program to demonstrate protected members.\n",
        "\n",
        "class Animal:\n",
        "\n",
        "    def __init__(self, name):\n",
        "        self._name = name  # Protected attribute\n",
        "\n",
        "    def _make_sound(self, sound):\n",
        "        print(f\"{self._name} makes a {sound} sound.\")  # Protected method\n",
        "\n",
        "\n",
        "# Subclass of Animal\n",
        "class Dog(Animal):\n",
        "    def bark(self):\n",
        "        self._make_sound(\"bark\")\n",
        "\n",
        "\n",
        "# Creating instances\n",
        "animal = Animal(\"Generic Animal\")\n",
        "dog = Dog(\"Buddy\")\n",
        "\n",
        "\n",
        "# Accessing protected attribute\n",
        "print(animal._name)  # Output: Generic Animal\n",
        "\n",
        "\n",
        "# Accessing protected method\n",
        "dog.bark()  # Output: Buddy makes a bark sound."
      ],
      "metadata": {
        "colab": {
          "base_uri": "https://localhost:8080/",
          "height": 0
        },
        "id": "mw6pwom2C47u",
        "outputId": "76d222ae-c349-492a-dfe4-f4c854f690fb"
      },
      "execution_count": 22,
      "outputs": [
        {
          "output_type": "stream",
          "name": "stdout",
          "text": [
            "Generic Animal\n",
            "Buddy makes a bark sound.\n"
          ]
        }
      ]
    },
    {
      "cell_type": "markdown",
      "source": [
        "### <b><u><i>Real-Life Examples:</i></u></b>\n",
        "\n",
        "#### <b>Example 1:</b>\n",
        "\n",
        "Consider a real-life example of encapsulation, in a company, there are different sections like the accounts section, finance section, sales section etc. The finance section handles all the financial transactions and keeps records of all the data related to finance. Similarly, the sales section handles all the sales-related activities and keeps records of all the sales. Now there may arise a situation when due to some reason an official from the finance section needs all the data about sales in a particular month. In this case, he is not allowed to directly access the data of the sales section. He will first have to contact some other officer in the sales section and then request him to give the particular data. This is what encapsulation is. Here the data of the sales section and the employees that can manipulate them are wrapped under a single name “sales section”. Using encapsulation also hides the data. In this example, the data of the sections like sales, finance, or accounts are hidden from any other section."
      ],
      "metadata": {
        "id": "ZP9Cmrxf_mUN"
      }
    },
    {
      "source": [
        "class SalesSection:\n",
        "    def __init__(self):\n",
        "        self.__sales_data = {\n",
        "            'January': 10000,\n",
        "            'February': 12000,\n",
        "            'March': 9000,\n",
        "\n",
        "        }\n",
        "\n",
        "    def get_sales_data(self, month):\n",
        "        return self._SalesSection__sales_data.get(month, \"Data not available\")\n",
        "\n",
        "\n",
        "class FinanceSection:\n",
        "    def _init_(self):\n",
        "        self.__finance_data = {\n",
        "            'January': 20000,\n",
        "            'February': 22000,\n",
        "            'March': 19000,\n",
        "        }\n",
        "\n",
        "    def request_sales_data(self, sales_section, month):\n",
        "        return sales_section.get_sales_data(month)\n",
        "\n",
        "\n",
        "# Creating instances of each section\n",
        "sales_section = SalesSection()\n",
        "finance_section = FinanceSection()\n",
        "\n",
        "# Finance section requesting sales data for February\n",
        "requested_data = finance_section.request_sales_data(sales_section, 'February')\n",
        "print(f\"Sales data for February: {requested_data}\")"
      ],
      "cell_type": "code",
      "metadata": {
        "colab": {
          "base_uri": "https://localhost:8080/",
          "height": 0
        },
        "id": "64vfjvRnUvkx",
        "outputId": "72cde089-8061-4abe-a0be-acd27886640e"
      },
      "execution_count": 30,
      "outputs": [
        {
          "output_type": "stream",
          "name": "stdout",
          "text": [
            "Sales data for February: 12000\n"
          ]
        }
      ]
    },
    {
      "cell_type": "markdown",
      "source": [
        "#### <b>Example 2:</b>\n",
        "\n",
        "Consider a real-life example of a banking system where encapsulation is used to restrict access to sensitive information such as account balance. The balance should not be directly accessible from outside the class to prevent unauthorized modifications."
      ],
      "metadata": {
        "id": "l7avwlgCEIT6"
      }
    },
    {
      "cell_type": "code",
      "source": [
        "class BankAccount:\n",
        "    def __init__(self, account_number, balance):\n",
        "        self.__account_number = account_number\n",
        "        self.__balance = balance\n",
        "\n",
        "    def get_balance(self):\n",
        "        return self.__balance\n",
        "\n",
        "    def deposit(self, amount):\n",
        "        if amount > 0:\n",
        "            self.__balance += amount\n",
        "            print(f\"Deposited {amount}. New balance is {self.__balance}\")\n",
        "        else:\n",
        "            print(\"Deposit amount must be positive\")\n",
        "\n",
        "    def withdraw(self, amount):\n",
        "        if 0 < amount <= self.__balance:\n",
        "            self.__balance -= amount\n",
        "            print(f\"Withdrew {amount}. New balance is {self.__balance}\")\n",
        "        else:\n",
        "            print(\"Insufficient balance or invalid amount\")\n",
        "\n",
        "\n",
        "# Creating a BankAccount object\n",
        "account = BankAccount(\"11223345\", 1500)\n",
        "\n",
        "# Accessing balance through public method\n",
        "print(account.get_balance())  # Output: 1000\n",
        "\n",
        "# Depositing money\n",
        "account.deposit(500)\n",
        "# Withdrawing money\n",
        "account.withdraw(200)\n"
      ],
      "metadata": {
        "colab": {
          "base_uri": "https://localhost:8080/",
          "height": 0
        },
        "id": "KFBrybhCEdwE",
        "outputId": "90c4c519-5d8e-43b3-9dcb-046131821cd6"
      },
      "execution_count": 16,
      "outputs": [
        {
          "output_type": "stream",
          "name": "stdout",
          "text": [
            "1500\n",
            "Deposited 500. New balance is 2000\n",
            "Withdrew 200. New balance is 1800\n"
          ]
        }
      ]
    },
    {
      "cell_type": "markdown",
      "source": [
        "### <u><i><b>Implementation:</u></i>\n",
        "Consider a scenario where you're developing a class to manage employee data within a company."
      ],
      "metadata": {
        "id": "385pKKblKnXY"
      }
    },
    {
      "cell_type": "code",
      "source": [
        "\n",
        "class Employee:\n",
        "\n",
        "    def __init__(self, emp_id, emp_name, emp_salary):\n",
        "        self._emp_id = emp_id  # Protected attribute\n",
        "        self._emp_name = emp_name  # Protected attribute\n",
        "        self._emp_salary = emp_salary  # Protected attribute\n",
        "\n",
        "    def get_employee_details(self):\n",
        "        \"\"\"Get employee details.\"\"\"\n",
        "        return f\"ID: {self._emp_id}, Name: {self._emp_name}, Salary: {self._emp_salary}\"\n",
        "\n",
        "    def increase_salary(self, amount):\n",
        "        \"\"\"Increase employee's salary.\"\"\"\n",
        "        if amount > 0:\n",
        "            self._emp_salary = amount\n",
        "        else:\n",
        "            print(\"Invalid salary increase amount.\")\n",
        "\n",
        "    def change_name(self, new_name):\n",
        "        \"\"\"Change employee's name.\"\"\"\n",
        "        self._emp_name = new_name\n",
        "\n",
        "\n",
        "# Create employee objects\n",
        "employee1 = Employee(101, \"Alice\", 50000)\n",
        "employee2 = Employee(102, \"Bob\", 60000)\n",
        "\n",
        "\n",
        "# Access employee details\n",
        "print(employee1.get_employee_details())  # Output: ID: 101, Name: Alice, Salary: 50000\n",
        "\n",
        "\n",
        "# Increase employee salary\n",
        "employee1.increase_salary(2000)\n",
        "print(employee1.get_employee_details())  # Output: ID: 101, Name: Alice, Salary: 52000\n",
        "\n",
        "\n",
        "# Change employee name\n",
        "employee2.change_name(\"Eve\")\n",
        "print(employee2.get_employee_details())  # Output: ID: 102, Name: Eve, Salary: 60000"
      ],
      "metadata": {
        "colab": {
          "base_uri": "https://localhost:8080/",
          "height": 0
        },
        "id": "xhWYfUnCKqqO",
        "outputId": "7e03adcd-7d91-4c2c-ce35-4ef7c96a2d81"
      },
      "execution_count": 24,
      "outputs": [
        {
          "output_type": "stream",
          "name": "stdout",
          "text": [
            "ID: 101, Name: Alice, Salary: 50000\n",
            "ID: 101, Name: Alice, Salary: 2000\n",
            "ID: 102, Name: Eve, Salary: 60000\n"
          ]
        }
      ]
    },
    {
      "cell_type": "markdown",
      "source": [
        "In the above example, we have an Employee class that encapsulates employee data, including ID, name, and salary, along with methods to interact with this data. Here's how encapsulation benefits us in this scenario:\n",
        "\n",
        "<u>Data Protection:</u> The attributes _emp_id, _emp_name, and _emp_salary are protected, so they are not directly accessed or modified outside the class.\n",
        "Modular Design: All employee-related functionality is encapsulated within the Employee class, making the code organized and modular.<br>\n",
        "\n",
        "<u>Abstraction:</u> External code interacts with the class through well-defined methods like get_employee_details, increase_salary, and change_name, abstracting away the complexity of the internal implementation.<br>\n",
        "\n",
        "<u>Controlled Access:</u> Access to employee data is controlled through methods. For example, you can't change an employee's salary without using the increase_salary method."
      ],
      "metadata": {
        "id": "8a1Q_wnYHMoX"
      }
    },
    {
      "cell_type": "markdown",
      "source": [
        "### <b><u><i>Best Practices When Implementing Encapsulation.</u></b><br>\n",
        "\n",
        "There are a number of best practices you can follow to ensure that your code aligns well with code written by other experienced OOPistas:<br>\n",
        "\n",
        "\n",
        "<b> 1) Create protected or private attributes or methods</b> if they are used only by you. Protected or private members get excluded from documentation and signal others that they can be changed by you, the developer, without any notice, thus discouraging them from using them.<br>\n",
        "\n",
        "<b> 2) You don’t always have to create properties for every single class attribute.</b> For large classes with many attributes, writing attr.getter and attr.setter methods can turn into a headache.<br>\n",
        "\n",
        "<b> 3) Consider raising a warning</b> every time a user accesses a protected member (_).<br>\n",
        "\n",
        "<b> 4)Use private members sparingly,</b> as they can make code unreadable for those unfamiliar with the convention.<br>\n",
        "\n",
        "<b> 5) Prioritize clarity over obscurity.</b> As encapsulation aims to improve code maintainability and data protection, don’t completely hide important implementation details of your class.<br>\n",
        "\n",
        "<b> 6) If you want to create read-only properties,</b> don’t implement the @attr.setter method. Users will be able to access the property but not modify it.<br>\n",
        "\n",
        "<b> 7) Always remember that encapsulation is a convention,</b> not an enforced aspect of Python syntax.<br>\n",
        "\n",
        "<b> 8) For simple classes, consider using dataclasses</b> which allow you to enable class encapsulation with a single line of code. However, dataclasses are for simpler classes with predictable attributes and methods. Check out this dataclasses tutorial to learn more."
      ],
      "metadata": {
        "id": "_CJ9C69aEBhi"
      }
    },
    {
      "cell_type": "markdown",
      "source": [
        "### <b><u><i>ADVANTAGES OF ENCAPSULATION:</u></b><br>\n",
        "\n",
        "<b>Following are the advantages of encapsulation in python:</b>\n",
        "\n",
        "<b>* Data Protection:</b> Encapsulation protects data from unauthorized access and modification. It enforces access controls on class members (attributes and methods) to define who can access the data.<br>\n",
        "<b>Example:</b> Private attributes and methods are only accessible within the class, ensuring data integrity.<br>\n",
        "\n",
        "<b>* Modular Code Design:</b> Encapsulation promotes a modular code design by bundling related data and functionality within a class. This makes the code easier to manage, maintain, and extend.<br>\n",
        "<b>Example:</b> Grouping attributes and methods related to a specific entity, like an employee or a car, within a class.<br>\n",
        "\n",
        "<b>* Abstraction:</b> Encapsulation abstracts complex internal details, providing a simplified and understandable interface for interacting with a class. External code doesn't need to know how things work internally.<br>\n",
        "<b>Example:</b> A Car class offers methods like start and stop to interact with the car's engine without exposing intricate engine details.<br>\n",
        "\n",
        "<b>* Controlled Access:</b> Encapsulation allows controlled access to data and methods through well-defined interfaces. It reduces the risk of unintended changes and errors by enforcing data validation and access control rules.<br>\n",
        "<b>Example:</b> Methods like set_temperature in a TemperatureConverter class ensure that temperature values stay within valid ranges.<br>\n",
        "\n",
        "<b>* Code Reusability:</b> Encapsulation promotes code reusability. Well-encapsulated classes can be easily integrated into different parts of an application, reducing duplication and improving code consistency.<br>\n",
        "<b>Example:</b> Using a Person class to manage user data consistently in various modules of an application.<br>\n",
        "\n",
        "<b>* Improved Security:</b> Encapsulation enhances security by controlling access to sensitive data. Private members are inaccessible from outside the class, reducing the risk of data breaches or misuse.<br>\n",
        "<b>Example:</b> Keeping passwords or encryption keys as private attributes within a class.<br>\n",
        "\n",
        "<b>* Encapsulation Hierarchies:</b> Inheritance and encapsulation can be combined to create encapsulation hierarchies. Subclasses can inherit and extend the encapsulation of their parent classes.<br>\n",
        "<b>Example:</b> A base Shape class encapsulates common attributes and methods, while subclasses like Circle and Rectangle encapsulate shape-specific details.<br>\n",
        "\n",
        "<b>* Code Readability and Maintenance:</b> Encapsulation enhances code readability and maintainability by providing a clear structure and well-defined interfaces. It simplifies troubleshooting and debugging.<br>\n",
        "<b>Example:</b> Well-encapsulated classes are easier to understand and maintain over time."
      ],
      "metadata": {
        "id": "HUWveCH8HMk7"
      }
    },
    {
      "cell_type": "markdown",
      "source": [
        "### <b><u><i>DISADVANTAGES OF ENCAPSULATION:</u></b><br>\n",
        "<b>Following are the disadvantages of encapsulation in Python:</b>\n",
        "\n",
        "<b>1. Complexity:</b> Overusing encapsulation can lead to code complexity and verbosity, making the code harder to understand.<br>\n",
        "<b>Example:</b> Extremely fine-grained encapsulation with numerous getters and setters can clutter the codebase.\n",
        "\n",
        "<b>2. Performance Overhead:</b> Accessing data through methods can introduce a slight performance overhead compared to direct attribute access.<br>\n",
        "<b>Example:</b> In high-performance applications, frequent method calls for simple attribute access can impact speed.\n",
        "\n",
        "<b>3. Name Mangling:</b> The use of name mangling to access private members can lead to less readable and maintainable code.<br>\n",
        "<b>Example:</b> Accessing private members using name mangling involves complex naming conventions and may confuse developers.\n",
        "\n",
        "<b>4. Limited Flexibility:</b> Overly strict encapsulation can limit flexibility and make it challenging to extend or modify a class.<br>\n",
        "<b>Example:</b> If a class encapsulates data and operations too tightly, making changes in the class requires extensive modifications.\n",
        "\n",
        "<b>5. Complexity in Testing:</b> Testing encapsulated code can be more complex, as you need to write additional test methods to access encapsulated data.<br>\n",
        "<b>Example:</b> In unit testing, you have to create extra methods to set encapsulated data for testing purposes."
      ],
      "metadata": {
        "id": "tHiaOFLhHMh3"
      }
    },
    {
      "cell_type": "markdown",
      "source": [
        "### <b><u><i>CONCLUSION:</b></u><br>\n",
        "\n",
        "<b>Encapsulation in Python is a fundamental concept and OOP in general. It helps to create clean, organized, and secure code by encapsulating data and controlling access through different methods. It offers numerous advantages, but it's essential to use encapsulation judiciously to avoid unnecessary complexity."
      ],
      "metadata": {
        "id": "TsfOteH8HMLb"
      }
    }
  ]
}