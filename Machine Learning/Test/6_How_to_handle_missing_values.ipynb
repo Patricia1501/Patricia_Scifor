{
  "nbformat": 4,
  "nbformat_minor": 0,
  "metadata": {
    "colab": {
      "provenance": []
    },
    "kernelspec": {
      "name": "python3",
      "display_name": "Python 3"
    },
    "language_info": {
      "name": "python"
    }
  },
  "cells": [
    {
      "cell_type": "markdown",
      "source": [
        "## How to handle missing values?\n",
        "\n",
        "<b>Missing data</b> is defined as the values or data that is not stored (or not present) for some variable/s in the given dataset.Handling missing values is an essential step in machine learning as it can significantly impact the performance of your model.<br>\n",
        "\n",
        "Missing values in a dataset can be represented in various ways, depending on the source of the data and the conventions used. Here are some common representations:<br>\n",
        "1)NaN (Not a Number)<br>\n",
        "2)NULL or None<br>\n",
        "3)Empty Strings<br>\n",
        "4)Blanks or Spaces<br>\n",
        "\n",
        "<b>Some common ways to handle missing values:</b><br>\n",
        "\n",
        "<b>Drop rows with missing values:</b><br> This method is simple and effective, especially when the dataset is large and the missing values are few. However, it can lead to loss of information if the missing values are significant.<br>\n",
        "\n",
        "<b>Replace with mean/median/mode:</b><br> This method replaces the missing values with the mean, median, or mode of the respective feature. This is a simple and effective method, especially for numerical features.<br>\n",
        "\n",
        "<b>Imputation using regression:</b><br> This method uses a regression model to predict the missing values based on other features.<br>\n",
        "\n",
        "<b>Imputation using K-Nearest Neighbors (KNN):</b><br> This method uses KNN to find the most similar rows to the one with missing values and impute the missing values based on these similar rows.<br>"
      ],
      "metadata": {
        "id": "QSIR-fgeiKKr"
      }
    },
    {
      "cell_type": "code",
      "execution_count": 1,
      "metadata": {
        "id": "N77AH6PBh8G8"
      },
      "outputs": [],
      "source": [
        "import numpy as np\n",
        "import pandas as pd\n",
        "from sklearn.impute import SimpleImputer"
      ]
    },
    {
      "cell_type": "code",
      "source": [
        "# Create a sample dataset\n",
        "data = {\n",
        "    'Age': [25, 30, np.nan, 35, 40, np.nan, 50],\n",
        "    'Salary': [50000, 54000, 58000, np.nan, 64000, 67000, np.nan],\n",
        "    'Purchased': ['No', 'Yes', 'No', 'No', 'Yes', 'Yes', 'No']\n",
        "    }"
      ],
      "metadata": {
        "id": "BxGY4UMJ7a9h"
      },
      "execution_count": 2,
      "outputs": []
    },
    {
      "cell_type": "code",
      "source": [
        "df = pd.DataFrame(data)"
      ],
      "metadata": {
        "id": "OzQlbhJl7g7Y"
      },
      "execution_count": 3,
      "outputs": []
    },
    {
      "cell_type": "code",
      "source": [
        "print(\"Original DataFrame:\")\n",
        "print(df)"
      ],
      "metadata": {
        "colab": {
          "base_uri": "https://localhost:8080/"
        },
        "id": "-9M8ltxS7lTw",
        "outputId": "638c3940-a3b2-4b3d-e084-3bfbf4adff57"
      },
      "execution_count": 4,
      "outputs": [
        {
          "output_type": "stream",
          "name": "stdout",
          "text": [
            "Original DataFrame:\n",
            "    Age   Salary Purchased\n",
            "0  25.0  50000.0        No\n",
            "1  30.0  54000.0       Yes\n",
            "2   NaN  58000.0        No\n",
            "3  35.0      NaN        No\n",
            "4  40.0  64000.0       Yes\n",
            "5   NaN  67000.0       Yes\n",
            "6  50.0      NaN        No\n"
          ]
        }
      ]
    },
    {
      "cell_type": "code",
      "source": [
        "# Separate features and target\n",
        "X = df[['Age', 'Salary']]\n",
        "y = df['Purchased']"
      ],
      "metadata": {
        "id": "c1nti3km7l6t"
      },
      "execution_count": 5,
      "outputs": []
    },
    {
      "cell_type": "code",
      "source": [
        "# Create an imputer object with a mean filling strategy\n",
        "imputer = SimpleImputer(strategy='mean')\n"
      ],
      "metadata": {
        "id": "wX0dwcw67qdu"
      },
      "execution_count": 6,
      "outputs": []
    },
    {
      "cell_type": "code",
      "source": [
        "# Fit the imputer on the data and transform the data\n",
        "X_imputed = imputer.fit_transform(X)"
      ],
      "metadata": {
        "id": "BimngXS87smv"
      },
      "execution_count": 7,
      "outputs": []
    },
    {
      "cell_type": "code",
      "source": [
        "# Convert the imputed array back to a DataFrame\n",
        "df_imputed = pd.DataFrame(X_imputed, columns=['Age', 'Salary'])"
      ],
      "metadata": {
        "id": "eERGERot7vOx"
      },
      "execution_count": 8,
      "outputs": []
    },
    {
      "cell_type": "code",
      "source": [
        "# Add the target column back to the DataFrame\n",
        "df_imputed['Purchased'] = y\n"
      ],
      "metadata": {
        "id": "okJl13sZ7xXq"
      },
      "execution_count": 9,
      "outputs": []
    },
    {
      "cell_type": "code",
      "source": [
        "print(\"\\nDataFrame after Mean Imputation:\")\n",
        "print(df_imputed)"
      ],
      "metadata": {
        "colab": {
          "base_uri": "https://localhost:8080/"
        },
        "id": "T83knNhp73-i",
        "outputId": "83541df9-04c3-4b94-8110-fdfae80e22a8"
      },
      "execution_count": 10,
      "outputs": [
        {
          "output_type": "stream",
          "name": "stdout",
          "text": [
            "\n",
            "DataFrame after Mean Imputation:\n",
            "    Age   Salary Purchased\n",
            "0  25.0  50000.0        No\n",
            "1  30.0  54000.0       Yes\n",
            "2  36.0  58000.0        No\n",
            "3  35.0  58600.0        No\n",
            "4  40.0  64000.0       Yes\n",
            "5  36.0  67000.0       Yes\n",
            "6  50.0  58600.0        No\n"
          ]
        }
      ]
    },
    {
      "cell_type": "code",
      "source": [],
      "metadata": {
        "id": "8jeISxCJ7624"
      },
      "execution_count": null,
      "outputs": []
    }
  ]
}